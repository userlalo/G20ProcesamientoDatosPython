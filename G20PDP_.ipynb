{
  "nbformat": 4,
  "nbformat_minor": 0,
  "metadata": {
    "colab": {
      "provenance": [],
      "toc_visible": true
    },
    "kernelspec": {
      "name": "python3",
      "display_name": "Python 3"
    },
    "language_info": {
      "name": "python"
    }
  },
  "cells": [
    {
      "cell_type": "markdown",
      "source": [
        "#PROCESAMIENTO DE DATOS CON PYTHON\n",
        "\n",
        "*   I    Identificación de Problema\n",
        "*   II   Planteamiento de Preguntas\n",
        "*   III  Colección de Datos\n",
        "*   IV   Análisis Exploratorio de Datos (EDA)\n",
        "*   V    Limpieza de Datos\n",
        "*   VI   Transformación de datos\n",
        "*   VII  Ordenamiento de Código (criterio 5,3,0)\n",
        "*   VIII APIs (Opcional)\n",
        "\n",
        "---\n",
        "\n"
      ],
      "metadata": {
        "id": "1uT6sEM9VmNQ"
      }
    },
    {
      "cell_type": "markdown",
      "source": [
        "##EQUIPO G20\n",
        "*   Doníz Padilla Brenda Grisel\n",
        "*   García Fragoso Nestor Abdy\n",
        "*   Gudiño Ramirez Gustavo\n",
        "*   Jiménez Rodríguez Paola Guadalupe\n",
        "*   Medina Rodríguez Eduardo\n",
        "*   Pando Barrón Jesús\n",
        "\n",
        "---\n",
        "\n"
      ],
      "metadata": {
        "id": "55COYgPunKcx"
      }
    },
    {
      "cell_type": "markdown",
      "source": [
        "### I .- IDENTIFICACIÓN DE PROBLEMA\n",
        "*   Identificación y justificación\n",
        "  *   México es uno de los países de América Latina con mayores niveles de incidencia delictiva. Sin embargo, México al ser un país tan variado cuenta con distintas realidades a nivel entidad federativa y municipal, por lo que es necesario contar con información que permita realizar diagnósticos más específicos para cada zona geográfica.  \n",
        "  *   Analizar el fenómeno delictivo de una región requiere por lo menos analizar la incidencia delictiva, tanto en términos absolutos como tasas por habitantes, considerando los tipo de delito, la forma de comisión de delitos, así como el perfil de las víctimas. \n",
        "  *   En un segundo momento, analizar las variables socio económicas y ambientales que podrían tener relación con el fenómeno delictivo, así como poder realizar estimaciones de comportamiento futuro de los índices delictivos para contar con información sobre el panorama actual y futuro de México.  \n",
        "\n",
        "\n",
        "*   Investigación preliminar\n",
        "  *   Existe información por país en el portal de United Nations Office of Drugs and Crimes /https://dataunodc.un.org/content/country-list que provee una información sobre tasas de incidencia de algunos delitos.  \n",
        "  *   El gobierno de México, a través de la página del Secretariado Ejecutivo del Sistema Nacional de Seguridad Pública (SESNSP) ofrece datos de carpetas de investigación iniciadas por delitos del fuero común para el periodo 2015-2022 en formato CSV por estado y municipio, así como bases de datos sobre el perfil de las víctimas de algunos delitos del fuero común /https://www.gob.mx/sesnsp/acciones-y-programas/datos-abiertos-de-incidencia-delictiva?state=published\n",
        "  *   El gobierno de México, a través de la página del Consejo Nacional de Población (CONAPO) ofrece datos públicos en formato CSV sobre las proyecciones de población de los Municipios de México 2015-2030 /https://datos.gob.mx/busca/dataset/proyecciones-de-la-poblacion-de-mexico-y-de-las-entidades-federativas-2016-2050/resource/0e21e97e-1faf-4045-8dc2-06691e0379a8?inner_span=True\n",
        "  *   El Banco Mundial ofrece datos acerca del Producto Interno Bruto (PIB) de diversos países, entre ellos México, por lo que se pudieran realizar análisis para ver si los niveles delictivos de crímenes violentos impactan positiva o negativament en los niveles del PIB.\n",
        "\n",
        "*   Existen análisis de fenómenos delitivos en otras latitudes, por ejemplo: \n",
        " \n",
        "  *   Chicago Crime /https://www.kaggle.com/datasets/chicago/chicago-crime, en donde se analizó el incremento de incidencia de delitos de un año a otro, en cuál mes tiene mayor ocurrencia un delito en particular, y cómo la temperatura afecta al comportamiento del fenómeno delictivo. \n",
        "  *   Crimes in Boston /https://www.kaggle.com/datasets/AnalyzeBoston/crimes-in-boston, en donde se analizó cuáles eran los delitos de mayor ocurrencia, los lugares de mayor ocurrencia de delitos, y si la frecuencia de delito varía en determinado periodo de tiempo.\n",
        "\n",
        "---\n"
      ],
      "metadata": {
        "id": "HrCb16FbZvnV"
      }
    },
    {
      "cell_type": "markdown",
      "source": [
        "###II .- PLANTEAMIENTO DE PREGUNTAS\n",
        "\n",
        "*   5 Preguntas pertinentes sobre el tema (Sesión 2)\n",
        "\n",
        " *   ¿Cuáles son los delitos con mayor incidencia en México, tanto en números absolutos como en delitos por cada 100 mil habitantes?\n",
        " *   ¿Cuáles son las entidades del país con mayores tasas de delitos graves, es decir, aquellos contra la vida y la integridad personal?\n",
        " *   ¿Qué tipos de delitos exhiben el mayor crecimiento del 2015 al 2022?\n",
        " *   ¿La frecuencia de ocurrencia de los delitos cambia con respecto al tiempo (mes, año)?\n",
        " *   ¿Cuál es el perfil de las víctimas de los delitos de homicidio doloso y robo con violencia en las entidades que muestran la mayor incidencia?\n",
        " *   ¿Los niveles de incidencia de delitos violentos (homicidio doloso y robo con violencia) guardan alguna relación con el comportamiento del PIB en el país?\n",
        "\n",
        "---"
      ],
      "metadata": {
        "id": "duTHniNga_S7"
      }
    },
    {
      "cell_type": "markdown",
      "source": [
        "###III .- COLECCIÓN DE DATOS\n",
        "\n",
        "*   Obtener colección de datos completa y no previamente procesada\n",
        "*   Los datos recopilados pueden responder completamente las preguntas planteadas\n",
        "\n",
        "---\n",
        "> Obtuvimos dos archivos de datos en formato CSV de la fuentes indicadas durante `la investigación preliminar`. Estos datos son suficientes para resolver las preguntas planteadas.\n",
        "Los archivos son los siguientes:\n",
        "\n",
        "\n",
        "\n",
        "```\n",
        "Municipal-Delitos-2015-2022_dic2022.csv\n",
        "pob_mit_proyecciones.csv\n",
        "```\n",
        "> El primer archivo contiene información de la cantidad de delitos en la Republica Mexicana clasificados por entidad, municipio, año, mes, tipos de delitos, etc.\n",
        ">El segundo archivo contiene información sobre las proyecciones de la poblacion clasificaco por año y entidad\n",
        "\n"
      ],
      "metadata": {
        "id": "JQKHvgpfbR04"
      }
    },
    {
      "cell_type": "markdown",
      "source": [
        "###IV .- ANÁLISIS EXPLORATORIO DE DATOS (EDA)\n",
        "\n",
        "*   Convertir de forma adecuada la colección de datos en un DataFrame de pandas as pd 😲\n",
        "*   Realizar EDA a través del uso correcto de pandas"
      ],
      "metadata": {
        "id": "1dqmoQyvbS3T"
      }
    },
    {
      "cell_type": "markdown",
      "source": [
        "###V .- LIMPIEZA DE DATOS\n",
        "\n",
        "* El nuevo DataFrame no contiene ningún NaN\n",
        "* El DataFrame está correctamente indexado (en orden y sus índices coherentes)\n",
        "* Las columnas están correctamente nombradas\n",
        "* Se aplicaron agregaciones al Dataset para poder comenzar a responder algunas de las preguntas planteadas\n"
      ],
      "metadata": {
        "id": "Yh47yxhCbT13"
      }
    },
    {
      "cell_type": "markdown",
      "source": [
        "###VI .- TRANSFORMACIÓN DE DATOS\n",
        "\n",
        "* Todos los datos de cada columna tienen un valor correcto dependiendo del tipo de dato (fechas, objetos, ints, floats)\n",
        "* Todas las columnas de texto están manipuladas para estar en formato correcto\n",
        "*\tHay nuevas columnas con nuevos datos resultantes del procesamiento de una o más columnas originales\n",
        "*\tSe crearon otros Datasets -subconjuntos-series que presentan información relevante para una pregunta especifica o simplemente para exploraciones más profundas\n"
      ],
      "metadata": {
        "id": "4lVUSVaQbUsV"
      }
    },
    {
      "cell_type": "markdown",
      "source": [],
      "metadata": {
        "id": "61r-nbpvm8Pj"
      }
    },
    {
      "cell_type": "markdown",
      "source": [
        "### VII .- ORDENAMIENTO DE CÓDIGO (CRITERIO 5,3,0)\n",
        "\n",
        "*   Se entregó un Jupyter Notebook ordenado y limpio que contiene todos los pasos llevados a cabo para el procesamiento de datos\n",
        "*   El Notebook hace uso de las diversas técnicas aprendidas a través de las clases para la exploración y procesamiento de datos\n",
        "*   El Notebook contiene el código (nombrado correctamente) de todas las sesiones pasadas"
      ],
      "metadata": {
        "id": "zwtI8PcjbVjp"
      }
    },
    {
      "cell_type": "markdown",
      "source": [
        "\n",
        "\n",
        "---\n",
        "\n"
      ],
      "metadata": {
        "id": "fpCVqpAwnjUy"
      }
    },
    {
      "cell_type": "markdown",
      "source": [
        "#### 1. Importamos las bibliotecas necesarias"
      ],
      "metadata": {
        "id": "NpTKFPbjnoM4"
      }
    },
    {
      "cell_type": "code",
      "source": [
        "import pandas as pd\n",
        "import numpy as np"
      ],
      "metadata": {
        "id": "ijpTu5kTe11D"
      },
      "execution_count": null,
      "outputs": []
    },
    {
      "cell_type": "markdown",
      "source": [
        "#### 2a. Lectura del archivo de `delitos municipales`\n",
        "\n",
        "`Municipal-Delitos-2015-2022.csv`"
      ],
      "metadata": {
        "id": "nZG595Sjnzg4"
      }
    },
    {
      "cell_type": "code",
      "source": [
        "#df = pd.read_csv('drive/MyDrive/Datasets_python_E20/Municipal-Delitos-2015-2022_dic2022.csv',sep=',')"
      ],
      "metadata": {
        "id": "UKpHkcU8nzG4"
      },
      "execution_count": null,
      "outputs": []
    },
    {
      "cell_type": "code",
      "source": [
        "#Se monto el archivo en un servidor externo porque era muy pesado para Github\n",
        "df = pd.read_csv('https://tutoria.unam.mx/Python/Municipal-Delitos-2015-2022_dic2022.csv',sep=',')"
      ],
      "metadata": {
        "id": "OYhW9N1oLaiH"
      },
      "execution_count": null,
      "outputs": []
    },
    {
      "cell_type": "markdown",
      "source": [
        "#### 2b. Lectura del archivo de `Población a mitad de año`\n",
        "\n",
        "`pob_mit_proyecciones.csv`"
      ],
      "metadata": {
        "id": "b_QJOYUi43da"
      }
    },
    {
      "cell_type": "code",
      "source": [
        "#Este archivo por ser más liviano se cargo directamente del Github\n",
        "pmp = pd.read_csv('https://raw.githubusercontent.com/userlalo/G20_ProcesamientoDatosPython/main/pob_mit_proyecciones.csv',sep=',')"
      ],
      "metadata": {
        "id": "w_2OvBgZLic1"
      },
      "execution_count": null,
      "outputs": []
    },
    {
      "cell_type": "markdown",
      "source": [
        "#### 3. ¿Qué tamaño tiene mi conjunto de datos?"
      ],
      "metadata": {
        "id": "dA7CkFa3oWFQ"
      }
    },
    {
      "cell_type": "code",
      "source": [
        "# El archivo de Delitos municipales\n",
        "df.shape"
      ],
      "metadata": {
        "colab": {
          "base_uri": "https://localhost:8080/"
        },
        "id": "e_6ZNLhPoZES",
        "outputId": "1df0a408-1462-4b3b-85b5-d1fd664deda6"
      },
      "execution_count": null,
      "outputs": [
        {
          "output_type": "execute_result",
          "data": {
            "text/plain": [
              "(1832404, 21)"
            ]
          },
          "metadata": {},
          "execution_count": 22
        }
      ]
    },
    {
      "cell_type": "code",
      "source": [
        "# El archivo de proyecciones de poblacion a mitad del año\n",
        "pmp.shape"
      ],
      "metadata": {
        "colab": {
          "base_uri": "https://localhost:8080/"
        },
        "id": "wZ8csUCKlUCK",
        "outputId": "52f32bce-e3c3-4347-c293-2ce536cb5ed8"
      },
      "execution_count": null,
      "outputs": [
        {
          "output_type": "execute_result",
          "data": {
            "text/plain": [
              "(592460, 7)"
            ]
          },
          "metadata": {},
          "execution_count": 23
        }
      ]
    },
    {
      "cell_type": "markdown",
      "source": [
        "#### 4. ¿Qué columnas tengo y qué información tengo en cada una de esas columnas?"
      ],
      "metadata": {
        "id": "uN8lznJdod2g"
      }
    },
    {
      "cell_type": "code",
      "source": [
        "# El dataframe de Delitos municipales\n",
        "df.info()"
      ],
      "metadata": {
        "colab": {
          "base_uri": "https://localhost:8080/"
        },
        "id": "4m1eS5KRolpw",
        "outputId": "62795d13-2804-4f95-d451-59bbb6a4736a"
      },
      "execution_count": null,
      "outputs": [
        {
          "output_type": "stream",
          "name": "stdout",
          "text": [
            "<class 'pandas.core.frame.DataFrame'>\n",
            "RangeIndex: 1832404 entries, 0 to 1832403\n",
            "Data columns (total 21 columns):\n",
            " #   Column                  Dtype \n",
            "---  ------                  ----- \n",
            " 0   Año                     int64 \n",
            " 1   Clave_Ent               int64 \n",
            " 2   Entidad                 object\n",
            " 3   Cve. Municipio          int64 \n",
            " 4   Municipio               object\n",
            " 5   Bien jurídico afectado  object\n",
            " 6   Tipo de delito          object\n",
            " 7   Subtipo de delito       object\n",
            " 8   Modalidad               object\n",
            " 9   Enero                   int64 \n",
            " 10  Febrero                 int64 \n",
            " 11  Marzo                   int64 \n",
            " 12  Abril                   int64 \n",
            " 13  Mayo                    int64 \n",
            " 14  Junio                   int64 \n",
            " 15  Julio                   int64 \n",
            " 16  Agosto                  int64 \n",
            " 17  Septiembre              int64 \n",
            " 18  Octubre                 int64 \n",
            " 19  Noviembre               int64 \n",
            " 20  Diciembre               int64 \n",
            "dtypes: int64(15), object(6)\n",
            "memory usage: 293.6+ MB\n"
          ]
        }
      ]
    },
    {
      "cell_type": "code",
      "source": [
        "# El dataframe de proyecciones de poblacion a mitad del año\n",
        "pmp.info()"
      ],
      "metadata": {
        "colab": {
          "base_uri": "https://localhost:8080/"
        },
        "id": "RP0Fqe0TmWQ4",
        "outputId": "60a5bc66-5dd7-49f3-e954-e6c3a7d4ec3d"
      },
      "execution_count": null,
      "outputs": [
        {
          "output_type": "stream",
          "name": "stdout",
          "text": [
            "<class 'pandas.core.frame.DataFrame'>\n",
            "RangeIndex: 592460 entries, 0 to 592459\n",
            "Data columns (total 7 columns):\n",
            " #   Column     Non-Null Count   Dtype \n",
            "---  ------     --------------   ----- \n",
            " 0   RENGLON    592460 non-null  int64 \n",
            " 1   AÑO        592460 non-null  int64 \n",
            " 2   ENTIDAD    592460 non-null  object\n",
            " 3   CVE_GEO    592460 non-null  int64 \n",
            " 4   EDAD       592460 non-null  int64 \n",
            " 5   SEXO       592460 non-null  object\n",
            " 6   POBLACION  592460 non-null  int64 \n",
            "dtypes: int64(5), object(2)\n",
            "memory usage: 31.6+ MB\n"
          ]
        }
      ]
    },
    {
      "cell_type": "markdown",
      "source": [
        "#### 5. Los nombres que tienen mis columnas. ¿Son los nombres más apropiados?\n",
        "\n",
        "\n",
        "No, los nombres de las columnas del archivo de Delitos municipales no son consistentes, algunos presentan espacios y otros un guión bajo \"_\" o punto\".\".\n",
        "Los nombres de las columnas de proyeccion de la población están en mayúsculas con faltas de ortografía o con un nombre no apropiado. \n",
        "se debe hacer un renombramiento de columnas."
      ],
      "metadata": {
        "id": "rXae-jYXqfZX"
      }
    },
    {
      "cell_type": "code",
      "source": [
        "# Renombrando columnas del dataframe de Delitos municipales\n",
        "column_name_delitos_municipales = {\n",
        "    'Año': 'año',\n",
        "    'Clave_Ent':'clave_entidad', \n",
        "    'Entidad':'entidad', \n",
        "    'Cve. Municipio':'clave_municipio', \n",
        "    'Municipio':'municipio',\n",
        "    'Bien jurídico afectado':'bien_jurídico_afectado', \n",
        "    'Tipo de delito':'tipo_de_delito', \n",
        "    'Subtipo de delito':'subtipo_de_delito',\n",
        "    'Modalidad':'modalidad', \n",
        "    'Enero':'enero',\n",
        "    'Febrero':'febrero', \n",
        "    'Marzo':'marzo', \n",
        "    'Abril':'abril', \n",
        "    'Mayo':'mayo', \n",
        "    'Junio':'junio',\n",
        "    'Julio':'julio', \n",
        "    'Agosto':'agosto', \n",
        "    'Septiembre':'septiembre', \n",
        "    'Octubre':'octubre', \n",
        "    'Noviembre':'noviembre',\n",
        "    'Diciembre':'diciembre'\n",
        "}\n",
        "# Renombrando columnas del dataframe de proyecciones de poblacion a mitad del año\n",
        "column_name_proyeccion_poblacion = {\n",
        "    'RENGLON':'índice', \n",
        "    'AÑO':'año', \n",
        "    'ENTIDAD':'entidad', \n",
        "    'CVE_GEO':'clave_entidad',\n",
        "    'EDAD':'edad', \n",
        "    'SEXO':'sexo',\n",
        "    'POBLACION':'población'\n",
        "}"
      ],
      "metadata": {
        "id": "2p6XUbkUwqQC"
      },
      "execution_count": null,
      "outputs": []
    },
    {
      "cell_type": "code",
      "source": [
        "df.renamed=df.rename(columns=column_name_delitos_municipales)"
      ],
      "metadata": {
        "id": "I6Id5Hjty5Px"
      },
      "execution_count": null,
      "outputs": []
    },
    {
      "cell_type": "code",
      "source": [
        "pmp.renamed=pmp.rename(columns=column_name_proyeccion_poblacion)"
      ],
      "metadata": {
        "id": "uPDVeGepzGVo"
      },
      "execution_count": null,
      "outputs": []
    },
    {
      "cell_type": "markdown",
      "source": [
        "#### Tipos de datos de los dataframes\n",
        "+ ¿Qúe tipos de datos tengo en cada columna? \n",
        "+ ¿Parecen ser el tipo de datos correcto?  \n",
        "+ ¿o es un tipo de datos \"incorrecto\"?"
      ],
      "metadata": {
        "id": "h07nhQJn3J6B"
      }
    },
    {
      "cell_type": "code",
      "source": [
        "# Verificando los tipo de datos\n",
        "df.renamed.dtypes"
      ],
      "metadata": {
        "colab": {
          "base_uri": "https://localhost:8080/"
        },
        "id": "K3VZNliJuyLM",
        "outputId": "4a32267a-f814-45c7-cf77-5ddb5b1ea00c"
      },
      "execution_count": null,
      "outputs": [
        {
          "output_type": "execute_result",
          "data": {
            "text/plain": [
              "año                        int64\n",
              "clave_entidad              int64\n",
              "entidad                   object\n",
              "clave_municipio            int64\n",
              "municipio                 object\n",
              "bien_jurídico_afectado    object\n",
              "tipo_de_delito            object\n",
              "subtipo_de_delito         object\n",
              "modalidad                 object\n",
              "enero                      int64\n",
              "febrero                    int64\n",
              "marzo                      int64\n",
              "abril                      int64\n",
              "mayo                       int64\n",
              "junio                      int64\n",
              "julio                      int64\n",
              "agosto                     int64\n",
              "septiembre                 int64\n",
              "octubre                    int64\n",
              "noviembre                  int64\n",
              "diciembre                  int64\n",
              "dtype: object"
            ]
          },
          "metadata": {},
          "execution_count": 31
        }
      ]
    },
    {
      "cell_type": "code",
      "source": [
        "pmp.renamed.dtypes"
      ],
      "metadata": {
        "colab": {
          "base_uri": "https://localhost:8080/"
        },
        "id": "FbsEGyTY4BqZ",
        "outputId": "12629f3e-6882-4c0c-a77b-1513391ff548"
      },
      "execution_count": null,
      "outputs": [
        {
          "output_type": "execute_result",
          "data": {
            "text/plain": [
              "índice            int64\n",
              "año               int64\n",
              "entidad          object\n",
              "clave_entidad     int64\n",
              "edad              int64\n",
              "sexo             object\n",
              "población         int64\n",
              "dtype: object"
            ]
          },
          "metadata": {},
          "execution_count": 32
        }
      ]
    },
    {
      "cell_type": "markdown",
      "source": [
        "Los tipos de datos `son correctos` no es necesario hacer algún tipo de cast."
      ],
      "metadata": {
        "id": "ynfWJQaaoeOr"
      }
    },
    {
      "cell_type": "markdown",
      "source": [
        "#### Conteo y limpieza de valores nulos o NaN"
      ],
      "metadata": {
        "id": "mcgXacvQqtH-"
      }
    },
    {
      "cell_type": "code",
      "source": [
        "df.renamed.isna().sum(axis=0)"
      ],
      "metadata": {
        "id": "bfaew-_wq5RA",
        "outputId": "5b17e280-b67c-4f6b-bed8-ec0f98d3eca8",
        "colab": {
          "base_uri": "https://localhost:8080/"
        }
      },
      "execution_count": null,
      "outputs": [
        {
          "output_type": "execute_result",
          "data": {
            "text/plain": [
              "año                       0\n",
              "clave_entidad             0\n",
              "entidad                   0\n",
              "clave_municipio           0\n",
              "municipio                 0\n",
              "bien_jurídico_afectado    0\n",
              "tipo_de_delito            0\n",
              "subtipo_de_delito         0\n",
              "modalidad                 0\n",
              "enero                     0\n",
              "febrero                   0\n",
              "marzo                     0\n",
              "abril                     0\n",
              "mayo                      0\n",
              "junio                     0\n",
              "julio                     0\n",
              "agosto                    0\n",
              "septiembre                0\n",
              "octubre                   0\n",
              "noviembre                 0\n",
              "diciembre                 0\n",
              "dtype: int64"
            ]
          },
          "metadata": {},
          "execution_count": 33
        }
      ]
    },
    {
      "cell_type": "markdown",
      "source": [
        "No hay valores nulos en el dataframe de `delitos municipales`"
      ],
      "metadata": {
        "id": "VL2BOtShq8H-"
      }
    },
    {
      "cell_type": "code",
      "source": [
        "pmp.renamed.isna().sum(axis=0)"
      ],
      "metadata": {
        "colab": {
          "base_uri": "https://localhost:8080/"
        },
        "id": "fcW84_jQ5xXs",
        "outputId": "a655eda6-19a1-4da2-8eaf-d3a495dc1dc5"
      },
      "execution_count": null,
      "outputs": [
        {
          "output_type": "execute_result",
          "data": {
            "text/plain": [
              "índice           0\n",
              "año              0\n",
              "entidad          0\n",
              "clave_entidad    0\n",
              "edad             0\n",
              "sexo             0\n",
              "población        0\n",
              "dtype: int64"
            ]
          },
          "metadata": {},
          "execution_count": 34
        }
      ]
    },
    {
      "cell_type": "markdown",
      "source": [
        "No hay valores nulos en el dataframe de `Población a mitad de año`"
      ],
      "metadata": {
        "id": "siQ8AslS55j5"
      }
    },
    {
      "cell_type": "markdown",
      "source": [
        "#### Agrupando datos por entidad federativa\n",
        "\n",
        "1. El dataframe de los delitos Municipales contienen información en un nivel de agregación por municipio, que no es compatible con el segundo dataframe. \n",
        "  * Eliminar las columnas de clave_municipio y municipio porque ya no son necesarias para el análisis\n",
        "  * Posteriormente hay que hacer la agrupación\n",
        "\n",
        "\n",
        "\n"
      ],
      "metadata": {
        "id": "xuuzthkQEEzC"
      }
    },
    {
      "cell_type": "code",
      "source": [
        "df.dropped = df.renamed.drop(columns=['clave_municipio', 'municipio'])"
      ],
      "metadata": {
        "id": "5b_GprnxLy0f"
      },
      "execution_count": null,
      "outputs": []
    },
    {
      "cell_type": "code",
      "source": [
        "df.group=pd.DataFrame(df.dropped.groupby(['año', 'clave_entidad', 'entidad','bien_jurídico_afectado',\n",
        "       'tipo_de_delito', 'subtipo_de_delito', 'modalidad'], as_index=False).sum())"
      ],
      "metadata": {
        "id": "2lBYwtQmFE52"
      },
      "execution_count": null,
      "outputs": []
    },
    {
      "cell_type": "code",
      "source": [
        "df.group.head(5)"
      ],
      "metadata": {
        "colab": {
          "base_uri": "https://localhost:8080/",
          "height": 305
        },
        "id": "DAcYbr0NCOka",
        "outputId": "06b645a6-500a-4cdd-e0aa-2ade888b8b53"
      },
      "execution_count": null,
      "outputs": [
        {
          "output_type": "execute_result",
          "data": {
            "text/plain": [
              "    año  clave_entidad         entidad bien_jurídico_afectado  \\\n",
              "0  2015              1  Aguascalientes          El patrimonio   \n",
              "1  2015              1  Aguascalientes          El patrimonio   \n",
              "2  2015              1  Aguascalientes          El patrimonio   \n",
              "3  2015              1  Aguascalientes          El patrimonio   \n",
              "4  2015              1  Aguascalientes          El patrimonio   \n",
              "\n",
              "        tipo_de_delito    subtipo_de_delito            modalidad  enero  \\\n",
              "0   Abuso de confianza   Abuso de confianza   Abuso de confianza     41   \n",
              "1  Daño a la propiedad  Daño a la propiedad  Daño a la propiedad    201   \n",
              "2              Despojo              Despojo              Despojo     19   \n",
              "3            Extorsión            Extorsión            Extorsión      2   \n",
              "4               Fraude               Fraude               Fraude    119   \n",
              "\n",
              "   febrero  marzo  abril  mayo  junio  julio  agosto  septiembre  octubre  \\\n",
              "0       33     31     22    36     43     30      40          40       34   \n",
              "1      180    182    160   121    166    160     151         178      133   \n",
              "2       15     13     14    13     19     12      15          19       22   \n",
              "3        4      1      5     7      2      1       3           2        6   \n",
              "4       60    104    116    81    110    101      77          80       97   \n",
              "\n",
              "   noviembre  diciembre  \n",
              "0         43         26  \n",
              "1        121        107  \n",
              "2         10          8  \n",
              "3          4          2  \n",
              "4         75         67  "
            ],
            "text/html": [
              "\n",
              "  <div id=\"df-8421e41c-7c45-45ed-9991-15d61f172a9e\">\n",
              "    <div class=\"colab-df-container\">\n",
              "      <div>\n",
              "<style scoped>\n",
              "    .dataframe tbody tr th:only-of-type {\n",
              "        vertical-align: middle;\n",
              "    }\n",
              "\n",
              "    .dataframe tbody tr th {\n",
              "        vertical-align: top;\n",
              "    }\n",
              "\n",
              "    .dataframe thead th {\n",
              "        text-align: right;\n",
              "    }\n",
              "</style>\n",
              "<table border=\"1\" class=\"dataframe\">\n",
              "  <thead>\n",
              "    <tr style=\"text-align: right;\">\n",
              "      <th></th>\n",
              "      <th>año</th>\n",
              "      <th>clave_entidad</th>\n",
              "      <th>entidad</th>\n",
              "      <th>bien_jurídico_afectado</th>\n",
              "      <th>tipo_de_delito</th>\n",
              "      <th>subtipo_de_delito</th>\n",
              "      <th>modalidad</th>\n",
              "      <th>enero</th>\n",
              "      <th>febrero</th>\n",
              "      <th>marzo</th>\n",
              "      <th>abril</th>\n",
              "      <th>mayo</th>\n",
              "      <th>junio</th>\n",
              "      <th>julio</th>\n",
              "      <th>agosto</th>\n",
              "      <th>septiembre</th>\n",
              "      <th>octubre</th>\n",
              "      <th>noviembre</th>\n",
              "      <th>diciembre</th>\n",
              "    </tr>\n",
              "  </thead>\n",
              "  <tbody>\n",
              "    <tr>\n",
              "      <th>0</th>\n",
              "      <td>2015</td>\n",
              "      <td>1</td>\n",
              "      <td>Aguascalientes</td>\n",
              "      <td>El patrimonio</td>\n",
              "      <td>Abuso de confianza</td>\n",
              "      <td>Abuso de confianza</td>\n",
              "      <td>Abuso de confianza</td>\n",
              "      <td>41</td>\n",
              "      <td>33</td>\n",
              "      <td>31</td>\n",
              "      <td>22</td>\n",
              "      <td>36</td>\n",
              "      <td>43</td>\n",
              "      <td>30</td>\n",
              "      <td>40</td>\n",
              "      <td>40</td>\n",
              "      <td>34</td>\n",
              "      <td>43</td>\n",
              "      <td>26</td>\n",
              "    </tr>\n",
              "    <tr>\n",
              "      <th>1</th>\n",
              "      <td>2015</td>\n",
              "      <td>1</td>\n",
              "      <td>Aguascalientes</td>\n",
              "      <td>El patrimonio</td>\n",
              "      <td>Daño a la propiedad</td>\n",
              "      <td>Daño a la propiedad</td>\n",
              "      <td>Daño a la propiedad</td>\n",
              "      <td>201</td>\n",
              "      <td>180</td>\n",
              "      <td>182</td>\n",
              "      <td>160</td>\n",
              "      <td>121</td>\n",
              "      <td>166</td>\n",
              "      <td>160</td>\n",
              "      <td>151</td>\n",
              "      <td>178</td>\n",
              "      <td>133</td>\n",
              "      <td>121</td>\n",
              "      <td>107</td>\n",
              "    </tr>\n",
              "    <tr>\n",
              "      <th>2</th>\n",
              "      <td>2015</td>\n",
              "      <td>1</td>\n",
              "      <td>Aguascalientes</td>\n",
              "      <td>El patrimonio</td>\n",
              "      <td>Despojo</td>\n",
              "      <td>Despojo</td>\n",
              "      <td>Despojo</td>\n",
              "      <td>19</td>\n",
              "      <td>15</td>\n",
              "      <td>13</td>\n",
              "      <td>14</td>\n",
              "      <td>13</td>\n",
              "      <td>19</td>\n",
              "      <td>12</td>\n",
              "      <td>15</td>\n",
              "      <td>19</td>\n",
              "      <td>22</td>\n",
              "      <td>10</td>\n",
              "      <td>8</td>\n",
              "    </tr>\n",
              "    <tr>\n",
              "      <th>3</th>\n",
              "      <td>2015</td>\n",
              "      <td>1</td>\n",
              "      <td>Aguascalientes</td>\n",
              "      <td>El patrimonio</td>\n",
              "      <td>Extorsión</td>\n",
              "      <td>Extorsión</td>\n",
              "      <td>Extorsión</td>\n",
              "      <td>2</td>\n",
              "      <td>4</td>\n",
              "      <td>1</td>\n",
              "      <td>5</td>\n",
              "      <td>7</td>\n",
              "      <td>2</td>\n",
              "      <td>1</td>\n",
              "      <td>3</td>\n",
              "      <td>2</td>\n",
              "      <td>6</td>\n",
              "      <td>4</td>\n",
              "      <td>2</td>\n",
              "    </tr>\n",
              "    <tr>\n",
              "      <th>4</th>\n",
              "      <td>2015</td>\n",
              "      <td>1</td>\n",
              "      <td>Aguascalientes</td>\n",
              "      <td>El patrimonio</td>\n",
              "      <td>Fraude</td>\n",
              "      <td>Fraude</td>\n",
              "      <td>Fraude</td>\n",
              "      <td>119</td>\n",
              "      <td>60</td>\n",
              "      <td>104</td>\n",
              "      <td>116</td>\n",
              "      <td>81</td>\n",
              "      <td>110</td>\n",
              "      <td>101</td>\n",
              "      <td>77</td>\n",
              "      <td>80</td>\n",
              "      <td>97</td>\n",
              "      <td>75</td>\n",
              "      <td>67</td>\n",
              "    </tr>\n",
              "  </tbody>\n",
              "</table>\n",
              "</div>\n",
              "      <button class=\"colab-df-convert\" onclick=\"convertToInteractive('df-8421e41c-7c45-45ed-9991-15d61f172a9e')\"\n",
              "              title=\"Convert this dataframe to an interactive table.\"\n",
              "              style=\"display:none;\">\n",
              "        \n",
              "  <svg xmlns=\"http://www.w3.org/2000/svg\" height=\"24px\"viewBox=\"0 0 24 24\"\n",
              "       width=\"24px\">\n",
              "    <path d=\"M0 0h24v24H0V0z\" fill=\"none\"/>\n",
              "    <path d=\"M18.56 5.44l.94 2.06.94-2.06 2.06-.94-2.06-.94-.94-2.06-.94 2.06-2.06.94zm-11 1L8.5 8.5l.94-2.06 2.06-.94-2.06-.94L8.5 2.5l-.94 2.06-2.06.94zm10 10l.94 2.06.94-2.06 2.06-.94-2.06-.94-.94-2.06-.94 2.06-2.06.94z\"/><path d=\"M17.41 7.96l-1.37-1.37c-.4-.4-.92-.59-1.43-.59-.52 0-1.04.2-1.43.59L10.3 9.45l-7.72 7.72c-.78.78-.78 2.05 0 2.83L4 21.41c.39.39.9.59 1.41.59.51 0 1.02-.2 1.41-.59l7.78-7.78 2.81-2.81c.8-.78.8-2.07 0-2.86zM5.41 20L4 18.59l7.72-7.72 1.47 1.35L5.41 20z\"/>\n",
              "  </svg>\n",
              "      </button>\n",
              "      \n",
              "  <style>\n",
              "    .colab-df-container {\n",
              "      display:flex;\n",
              "      flex-wrap:wrap;\n",
              "      gap: 12px;\n",
              "    }\n",
              "\n",
              "    .colab-df-convert {\n",
              "      background-color: #E8F0FE;\n",
              "      border: none;\n",
              "      border-radius: 50%;\n",
              "      cursor: pointer;\n",
              "      display: none;\n",
              "      fill: #1967D2;\n",
              "      height: 32px;\n",
              "      padding: 0 0 0 0;\n",
              "      width: 32px;\n",
              "    }\n",
              "\n",
              "    .colab-df-convert:hover {\n",
              "      background-color: #E2EBFA;\n",
              "      box-shadow: 0px 1px 2px rgba(60, 64, 67, 0.3), 0px 1px 3px 1px rgba(60, 64, 67, 0.15);\n",
              "      fill: #174EA6;\n",
              "    }\n",
              "\n",
              "    [theme=dark] .colab-df-convert {\n",
              "      background-color: #3B4455;\n",
              "      fill: #D2E3FC;\n",
              "    }\n",
              "\n",
              "    [theme=dark] .colab-df-convert:hover {\n",
              "      background-color: #434B5C;\n",
              "      box-shadow: 0px 1px 3px 1px rgba(0, 0, 0, 0.15);\n",
              "      filter: drop-shadow(0px 1px 2px rgba(0, 0, 0, 0.3));\n",
              "      fill: #FFFFFF;\n",
              "    }\n",
              "  </style>\n",
              "\n",
              "      <script>\n",
              "        const buttonEl =\n",
              "          document.querySelector('#df-8421e41c-7c45-45ed-9991-15d61f172a9e button.colab-df-convert');\n",
              "        buttonEl.style.display =\n",
              "          google.colab.kernel.accessAllowed ? 'block' : 'none';\n",
              "\n",
              "        async function convertToInteractive(key) {\n",
              "          const element = document.querySelector('#df-8421e41c-7c45-45ed-9991-15d61f172a9e');\n",
              "          const dataTable =\n",
              "            await google.colab.kernel.invokeFunction('convertToInteractive',\n",
              "                                                     [key], {});\n",
              "          if (!dataTable) return;\n",
              "\n",
              "          const docLinkHtml = 'Like what you see? Visit the ' +\n",
              "            '<a target=\"_blank\" href=https://colab.research.google.com/notebooks/data_table.ipynb>data table notebook</a>'\n",
              "            + ' to learn more about interactive tables.';\n",
              "          element.innerHTML = '';\n",
              "          dataTable['output_type'] = 'display_data';\n",
              "          await google.colab.output.renderOutput(dataTable, element);\n",
              "          const docLink = document.createElement('div');\n",
              "          docLink.innerHTML = docLinkHtml;\n",
              "          element.appendChild(docLink);\n",
              "        }\n",
              "      </script>\n",
              "    </div>\n",
              "  </div>\n",
              "  "
            ]
          },
          "metadata": {},
          "execution_count": 39
        }
      ]
    },
    {
      "cell_type": "markdown",
      "source": [
        "2. El dataframe de la `proyección de la población a mitad del año` contiene la información desagregada por sexo y edad, es necesario los datos al nivel de entidad y año, por lo que también es necesario hacer un agrupamiento de la población por `año` y `entidad`"
      ],
      "metadata": {
        "id": "0HWaEzQTE_Gc"
      }
    },
    {
      "cell_type": "code",
      "source": [
        "pmp.group=pd.DataFrame(pmp.renamed.groupby([ 'año', 'entidad', 'clave_entidad'], as_index=False)['población'].sum())"
      ],
      "metadata": {
        "id": "Uuu4qbZNNf42"
      },
      "execution_count": null,
      "outputs": []
    },
    {
      "cell_type": "code",
      "source": [
        "pmp.group"
      ],
      "metadata": {
        "colab": {
          "base_uri": "https://localhost:8080/",
          "height": 424
        },
        "id": "t9ft54R9NmEQ",
        "outputId": "4a64a1da-a77b-42ff-fe68-3d23b5231dce"
      },
      "execution_count": null,
      "outputs": [
        {
          "output_type": "execute_result",
          "data": {
            "text/plain": [
              "       año             entidad  clave_entidad  población\n",
              "0     1950  República Mexicana              0   27026573\n",
              "1     1951  República Mexicana              0   27780135\n",
              "2     1952  República Mexicana              0   28578641\n",
              "3     1953  República Mexicana              0   29418995\n",
              "4     1954  República Mexicana              0   30311877\n",
              "...    ...                 ...            ...        ...\n",
              "2688  2050          Tamaulipas             28    4229654\n",
              "2689  2050            Tlaxcala             29    1683836\n",
              "2690  2050            Veracruz             30    8931064\n",
              "2691  2050             Yucatán             31    2785722\n",
              "2692  2050           Zacatecas             32    1880721\n",
              "\n",
              "[2693 rows x 4 columns]"
            ],
            "text/html": [
              "\n",
              "  <div id=\"df-84d82729-889a-4ffe-a77a-7d1f2bb65c4d\">\n",
              "    <div class=\"colab-df-container\">\n",
              "      <div>\n",
              "<style scoped>\n",
              "    .dataframe tbody tr th:only-of-type {\n",
              "        vertical-align: middle;\n",
              "    }\n",
              "\n",
              "    .dataframe tbody tr th {\n",
              "        vertical-align: top;\n",
              "    }\n",
              "\n",
              "    .dataframe thead th {\n",
              "        text-align: right;\n",
              "    }\n",
              "</style>\n",
              "<table border=\"1\" class=\"dataframe\">\n",
              "  <thead>\n",
              "    <tr style=\"text-align: right;\">\n",
              "      <th></th>\n",
              "      <th>año</th>\n",
              "      <th>entidad</th>\n",
              "      <th>clave_entidad</th>\n",
              "      <th>población</th>\n",
              "    </tr>\n",
              "  </thead>\n",
              "  <tbody>\n",
              "    <tr>\n",
              "      <th>0</th>\n",
              "      <td>1950</td>\n",
              "      <td>República Mexicana</td>\n",
              "      <td>0</td>\n",
              "      <td>27026573</td>\n",
              "    </tr>\n",
              "    <tr>\n",
              "      <th>1</th>\n",
              "      <td>1951</td>\n",
              "      <td>República Mexicana</td>\n",
              "      <td>0</td>\n",
              "      <td>27780135</td>\n",
              "    </tr>\n",
              "    <tr>\n",
              "      <th>2</th>\n",
              "      <td>1952</td>\n",
              "      <td>República Mexicana</td>\n",
              "      <td>0</td>\n",
              "      <td>28578641</td>\n",
              "    </tr>\n",
              "    <tr>\n",
              "      <th>3</th>\n",
              "      <td>1953</td>\n",
              "      <td>República Mexicana</td>\n",
              "      <td>0</td>\n",
              "      <td>29418995</td>\n",
              "    </tr>\n",
              "    <tr>\n",
              "      <th>4</th>\n",
              "      <td>1954</td>\n",
              "      <td>República Mexicana</td>\n",
              "      <td>0</td>\n",
              "      <td>30311877</td>\n",
              "    </tr>\n",
              "    <tr>\n",
              "      <th>...</th>\n",
              "      <td>...</td>\n",
              "      <td>...</td>\n",
              "      <td>...</td>\n",
              "      <td>...</td>\n",
              "    </tr>\n",
              "    <tr>\n",
              "      <th>2688</th>\n",
              "      <td>2050</td>\n",
              "      <td>Tamaulipas</td>\n",
              "      <td>28</td>\n",
              "      <td>4229654</td>\n",
              "    </tr>\n",
              "    <tr>\n",
              "      <th>2689</th>\n",
              "      <td>2050</td>\n",
              "      <td>Tlaxcala</td>\n",
              "      <td>29</td>\n",
              "      <td>1683836</td>\n",
              "    </tr>\n",
              "    <tr>\n",
              "      <th>2690</th>\n",
              "      <td>2050</td>\n",
              "      <td>Veracruz</td>\n",
              "      <td>30</td>\n",
              "      <td>8931064</td>\n",
              "    </tr>\n",
              "    <tr>\n",
              "      <th>2691</th>\n",
              "      <td>2050</td>\n",
              "      <td>Yucatán</td>\n",
              "      <td>31</td>\n",
              "      <td>2785722</td>\n",
              "    </tr>\n",
              "    <tr>\n",
              "      <th>2692</th>\n",
              "      <td>2050</td>\n",
              "      <td>Zacatecas</td>\n",
              "      <td>32</td>\n",
              "      <td>1880721</td>\n",
              "    </tr>\n",
              "  </tbody>\n",
              "</table>\n",
              "<p>2693 rows × 4 columns</p>\n",
              "</div>\n",
              "      <button class=\"colab-df-convert\" onclick=\"convertToInteractive('df-84d82729-889a-4ffe-a77a-7d1f2bb65c4d')\"\n",
              "              title=\"Convert this dataframe to an interactive table.\"\n",
              "              style=\"display:none;\">\n",
              "        \n",
              "  <svg xmlns=\"http://www.w3.org/2000/svg\" height=\"24px\"viewBox=\"0 0 24 24\"\n",
              "       width=\"24px\">\n",
              "    <path d=\"M0 0h24v24H0V0z\" fill=\"none\"/>\n",
              "    <path d=\"M18.56 5.44l.94 2.06.94-2.06 2.06-.94-2.06-.94-.94-2.06-.94 2.06-2.06.94zm-11 1L8.5 8.5l.94-2.06 2.06-.94-2.06-.94L8.5 2.5l-.94 2.06-2.06.94zm10 10l.94 2.06.94-2.06 2.06-.94-2.06-.94-.94-2.06-.94 2.06-2.06.94z\"/><path d=\"M17.41 7.96l-1.37-1.37c-.4-.4-.92-.59-1.43-.59-.52 0-1.04.2-1.43.59L10.3 9.45l-7.72 7.72c-.78.78-.78 2.05 0 2.83L4 21.41c.39.39.9.59 1.41.59.51 0 1.02-.2 1.41-.59l7.78-7.78 2.81-2.81c.8-.78.8-2.07 0-2.86zM5.41 20L4 18.59l7.72-7.72 1.47 1.35L5.41 20z\"/>\n",
              "  </svg>\n",
              "      </button>\n",
              "      \n",
              "  <style>\n",
              "    .colab-df-container {\n",
              "      display:flex;\n",
              "      flex-wrap:wrap;\n",
              "      gap: 12px;\n",
              "    }\n",
              "\n",
              "    .colab-df-convert {\n",
              "      background-color: #E8F0FE;\n",
              "      border: none;\n",
              "      border-radius: 50%;\n",
              "      cursor: pointer;\n",
              "      display: none;\n",
              "      fill: #1967D2;\n",
              "      height: 32px;\n",
              "      padding: 0 0 0 0;\n",
              "      width: 32px;\n",
              "    }\n",
              "\n",
              "    .colab-df-convert:hover {\n",
              "      background-color: #E2EBFA;\n",
              "      box-shadow: 0px 1px 2px rgba(60, 64, 67, 0.3), 0px 1px 3px 1px rgba(60, 64, 67, 0.15);\n",
              "      fill: #174EA6;\n",
              "    }\n",
              "\n",
              "    [theme=dark] .colab-df-convert {\n",
              "      background-color: #3B4455;\n",
              "      fill: #D2E3FC;\n",
              "    }\n",
              "\n",
              "    [theme=dark] .colab-df-convert:hover {\n",
              "      background-color: #434B5C;\n",
              "      box-shadow: 0px 1px 3px 1px rgba(0, 0, 0, 0.15);\n",
              "      filter: drop-shadow(0px 1px 2px rgba(0, 0, 0, 0.3));\n",
              "      fill: #FFFFFF;\n",
              "    }\n",
              "  </style>\n",
              "\n",
              "      <script>\n",
              "        const buttonEl =\n",
              "          document.querySelector('#df-84d82729-889a-4ffe-a77a-7d1f2bb65c4d button.colab-df-convert');\n",
              "        buttonEl.style.display =\n",
              "          google.colab.kernel.accessAllowed ? 'block' : 'none';\n",
              "\n",
              "        async function convertToInteractive(key) {\n",
              "          const element = document.querySelector('#df-84d82729-889a-4ffe-a77a-7d1f2bb65c4d');\n",
              "          const dataTable =\n",
              "            await google.colab.kernel.invokeFunction('convertToInteractive',\n",
              "                                                     [key], {});\n",
              "          if (!dataTable) return;\n",
              "\n",
              "          const docLinkHtml = 'Like what you see? Visit the ' +\n",
              "            '<a target=\"_blank\" href=https://colab.research.google.com/notebooks/data_table.ipynb>data table notebook</a>'\n",
              "            + ' to learn more about interactive tables.';\n",
              "          element.innerHTML = '';\n",
              "          dataTable['output_type'] = 'display_data';\n",
              "          await google.colab.output.renderOutput(dataTable, element);\n",
              "          const docLink = document.createElement('div');\n",
              "          docLink.innerHTML = docLinkHtml;\n",
              "          element.appendChild(docLink);\n",
              "        }\n",
              "      </script>\n",
              "    </div>\n",
              "  </div>\n",
              "  "
            ]
          },
          "metadata": {},
          "execution_count": 42
        }
      ]
    },
    {
      "cell_type": "markdown",
      "source": [
        "#### Filtrado de la información\n",
        "\n",
        "El dataframe de la `Población a mitad de año` contiene más registros que de los necesarios para hacer un `merge` de ambos dataframes, es por eso para minimizar el procesamiento \n",
        "\n",
        "El rango de años del dataframe de los `delitos Municipales` va del `2015 al 2022`, mientras que el segundo dataframe va de 1950 al 2050.\n",
        "Es necesario filtrar los registros para que los años."
      ],
      "metadata": {
        "id": "hkY_5kawRBtN"
      }
    },
    {
      "cell_type": "code",
      "source": [
        "filtro_año = (pmp.group['año'] >= 2015) & (pmp.group['año'] <= 2022)"
      ],
      "metadata": {
        "id": "j6_JTj7JTgy1"
      },
      "execution_count": null,
      "outputs": []
    },
    {
      "cell_type": "code",
      "source": [
        "pmp.filter=pmp.group[filtro_año]"
      ],
      "metadata": {
        "id": "JKzoSDOtTwNS"
      },
      "execution_count": null,
      "outputs": []
    },
    {
      "cell_type": "code",
      "source": [
        "pmp.filter"
      ],
      "metadata": {
        "colab": {
          "base_uri": "https://localhost:8080/",
          "height": 424
        },
        "id": "HXlb5utjDLUS",
        "outputId": "a74499cf-276c-4965-da4f-6eba111b1eb7"
      },
      "execution_count": null,
      "outputs": [
        {
          "output_type": "execute_result",
          "data": {
            "text/plain": [
              "       año              entidad  clave_entidad  población\n",
              "1505  2015       Aguascalientes              1    1331825\n",
              "1506  2015      Baja California              2    3357794\n",
              "1507  2015  Baja California Sur              3     719846\n",
              "1508  2015             Campeche              4     916832\n",
              "1509  2015              Chiapas              7    5307819\n",
              "...    ...                  ...            ...        ...\n",
              "1764  2022           Tamaulipas             28    3708008\n",
              "1765  2022             Tlaxcala             29    1410744\n",
              "1766  2022             Veracruz             30    8634299\n",
              "1767  2022              Yucatán             31    2308370\n",
              "1768  2022            Zacatecas             32    1689080\n",
              "\n",
              "[264 rows x 4 columns]"
            ],
            "text/html": [
              "\n",
              "  <div id=\"df-ef521d02-adb6-42f7-9a2a-a4602416f819\">\n",
              "    <div class=\"colab-df-container\">\n",
              "      <div>\n",
              "<style scoped>\n",
              "    .dataframe tbody tr th:only-of-type {\n",
              "        vertical-align: middle;\n",
              "    }\n",
              "\n",
              "    .dataframe tbody tr th {\n",
              "        vertical-align: top;\n",
              "    }\n",
              "\n",
              "    .dataframe thead th {\n",
              "        text-align: right;\n",
              "    }\n",
              "</style>\n",
              "<table border=\"1\" class=\"dataframe\">\n",
              "  <thead>\n",
              "    <tr style=\"text-align: right;\">\n",
              "      <th></th>\n",
              "      <th>año</th>\n",
              "      <th>entidad</th>\n",
              "      <th>clave_entidad</th>\n",
              "      <th>población</th>\n",
              "    </tr>\n",
              "  </thead>\n",
              "  <tbody>\n",
              "    <tr>\n",
              "      <th>1505</th>\n",
              "      <td>2015</td>\n",
              "      <td>Aguascalientes</td>\n",
              "      <td>1</td>\n",
              "      <td>1331825</td>\n",
              "    </tr>\n",
              "    <tr>\n",
              "      <th>1506</th>\n",
              "      <td>2015</td>\n",
              "      <td>Baja California</td>\n",
              "      <td>2</td>\n",
              "      <td>3357794</td>\n",
              "    </tr>\n",
              "    <tr>\n",
              "      <th>1507</th>\n",
              "      <td>2015</td>\n",
              "      <td>Baja California Sur</td>\n",
              "      <td>3</td>\n",
              "      <td>719846</td>\n",
              "    </tr>\n",
              "    <tr>\n",
              "      <th>1508</th>\n",
              "      <td>2015</td>\n",
              "      <td>Campeche</td>\n",
              "      <td>4</td>\n",
              "      <td>916832</td>\n",
              "    </tr>\n",
              "    <tr>\n",
              "      <th>1509</th>\n",
              "      <td>2015</td>\n",
              "      <td>Chiapas</td>\n",
              "      <td>7</td>\n",
              "      <td>5307819</td>\n",
              "    </tr>\n",
              "    <tr>\n",
              "      <th>...</th>\n",
              "      <td>...</td>\n",
              "      <td>...</td>\n",
              "      <td>...</td>\n",
              "      <td>...</td>\n",
              "    </tr>\n",
              "    <tr>\n",
              "      <th>1764</th>\n",
              "      <td>2022</td>\n",
              "      <td>Tamaulipas</td>\n",
              "      <td>28</td>\n",
              "      <td>3708008</td>\n",
              "    </tr>\n",
              "    <tr>\n",
              "      <th>1765</th>\n",
              "      <td>2022</td>\n",
              "      <td>Tlaxcala</td>\n",
              "      <td>29</td>\n",
              "      <td>1410744</td>\n",
              "    </tr>\n",
              "    <tr>\n",
              "      <th>1766</th>\n",
              "      <td>2022</td>\n",
              "      <td>Veracruz</td>\n",
              "      <td>30</td>\n",
              "      <td>8634299</td>\n",
              "    </tr>\n",
              "    <tr>\n",
              "      <th>1767</th>\n",
              "      <td>2022</td>\n",
              "      <td>Yucatán</td>\n",
              "      <td>31</td>\n",
              "      <td>2308370</td>\n",
              "    </tr>\n",
              "    <tr>\n",
              "      <th>1768</th>\n",
              "      <td>2022</td>\n",
              "      <td>Zacatecas</td>\n",
              "      <td>32</td>\n",
              "      <td>1689080</td>\n",
              "    </tr>\n",
              "  </tbody>\n",
              "</table>\n",
              "<p>264 rows × 4 columns</p>\n",
              "</div>\n",
              "      <button class=\"colab-df-convert\" onclick=\"convertToInteractive('df-ef521d02-adb6-42f7-9a2a-a4602416f819')\"\n",
              "              title=\"Convert this dataframe to an interactive table.\"\n",
              "              style=\"display:none;\">\n",
              "        \n",
              "  <svg xmlns=\"http://www.w3.org/2000/svg\" height=\"24px\"viewBox=\"0 0 24 24\"\n",
              "       width=\"24px\">\n",
              "    <path d=\"M0 0h24v24H0V0z\" fill=\"none\"/>\n",
              "    <path d=\"M18.56 5.44l.94 2.06.94-2.06 2.06-.94-2.06-.94-.94-2.06-.94 2.06-2.06.94zm-11 1L8.5 8.5l.94-2.06 2.06-.94-2.06-.94L8.5 2.5l-.94 2.06-2.06.94zm10 10l.94 2.06.94-2.06 2.06-.94-2.06-.94-.94-2.06-.94 2.06-2.06.94z\"/><path d=\"M17.41 7.96l-1.37-1.37c-.4-.4-.92-.59-1.43-.59-.52 0-1.04.2-1.43.59L10.3 9.45l-7.72 7.72c-.78.78-.78 2.05 0 2.83L4 21.41c.39.39.9.59 1.41.59.51 0 1.02-.2 1.41-.59l7.78-7.78 2.81-2.81c.8-.78.8-2.07 0-2.86zM5.41 20L4 18.59l7.72-7.72 1.47 1.35L5.41 20z\"/>\n",
              "  </svg>\n",
              "      </button>\n",
              "      \n",
              "  <style>\n",
              "    .colab-df-container {\n",
              "      display:flex;\n",
              "      flex-wrap:wrap;\n",
              "      gap: 12px;\n",
              "    }\n",
              "\n",
              "    .colab-df-convert {\n",
              "      background-color: #E8F0FE;\n",
              "      border: none;\n",
              "      border-radius: 50%;\n",
              "      cursor: pointer;\n",
              "      display: none;\n",
              "      fill: #1967D2;\n",
              "      height: 32px;\n",
              "      padding: 0 0 0 0;\n",
              "      width: 32px;\n",
              "    }\n",
              "\n",
              "    .colab-df-convert:hover {\n",
              "      background-color: #E2EBFA;\n",
              "      box-shadow: 0px 1px 2px rgba(60, 64, 67, 0.3), 0px 1px 3px 1px rgba(60, 64, 67, 0.15);\n",
              "      fill: #174EA6;\n",
              "    }\n",
              "\n",
              "    [theme=dark] .colab-df-convert {\n",
              "      background-color: #3B4455;\n",
              "      fill: #D2E3FC;\n",
              "    }\n",
              "\n",
              "    [theme=dark] .colab-df-convert:hover {\n",
              "      background-color: #434B5C;\n",
              "      box-shadow: 0px 1px 3px 1px rgba(0, 0, 0, 0.15);\n",
              "      filter: drop-shadow(0px 1px 2px rgba(0, 0, 0, 0.3));\n",
              "      fill: #FFFFFF;\n",
              "    }\n",
              "  </style>\n",
              "\n",
              "      <script>\n",
              "        const buttonEl =\n",
              "          document.querySelector('#df-ef521d02-adb6-42f7-9a2a-a4602416f819 button.colab-df-convert');\n",
              "        buttonEl.style.display =\n",
              "          google.colab.kernel.accessAllowed ? 'block' : 'none';\n",
              "\n",
              "        async function convertToInteractive(key) {\n",
              "          const element = document.querySelector('#df-ef521d02-adb6-42f7-9a2a-a4602416f819');\n",
              "          const dataTable =\n",
              "            await google.colab.kernel.invokeFunction('convertToInteractive',\n",
              "                                                     [key], {});\n",
              "          if (!dataTable) return;\n",
              "\n",
              "          const docLinkHtml = 'Like what you see? Visit the ' +\n",
              "            '<a target=\"_blank\" href=https://colab.research.google.com/notebooks/data_table.ipynb>data table notebook</a>'\n",
              "            + ' to learn more about interactive tables.';\n",
              "          element.innerHTML = '';\n",
              "          dataTable['output_type'] = 'display_data';\n",
              "          await google.colab.output.renderOutput(dataTable, element);\n",
              "          const docLink = document.createElement('div');\n",
              "          docLink.innerHTML = docLinkHtml;\n",
              "          element.appendChild(docLink);\n",
              "        }\n",
              "      </script>\n",
              "    </div>\n",
              "  </div>\n",
              "  "
            ]
          },
          "metadata": {},
          "execution_count": 45
        }
      ]
    },
    {
      "cell_type": "markdown",
      "source": [
        "Reindexamos el dataframe"
      ],
      "metadata": {
        "id": "3Z7nfGcTW-pu"
      }
    },
    {
      "cell_type": "code",
      "source": [
        "pmp.filter=pmp.filter.reset_index(drop=True)"
      ],
      "metadata": {
        "id": "HXBu5NH3W-T-"
      },
      "execution_count": null,
      "outputs": []
    },
    {
      "cell_type": "code",
      "source": [
        "pmp.filter"
      ],
      "metadata": {
        "colab": {
          "base_uri": "https://localhost:8080/",
          "height": 424
        },
        "id": "KlLuRBFcDPqB",
        "outputId": "9db1f04b-3682-43c1-ac6c-96445aa76595"
      },
      "execution_count": null,
      "outputs": [
        {
          "output_type": "execute_result",
          "data": {
            "text/plain": [
              "      año              entidad  clave_entidad  población\n",
              "0    2015       Aguascalientes              1    1331825\n",
              "1    2015      Baja California              2    3357794\n",
              "2    2015  Baja California Sur              3     719846\n",
              "3    2015             Campeche              4     916832\n",
              "4    2015              Chiapas              7    5307819\n",
              "..    ...                  ...            ...        ...\n",
              "259  2022           Tamaulipas             28    3708008\n",
              "260  2022             Tlaxcala             29    1410744\n",
              "261  2022             Veracruz             30    8634299\n",
              "262  2022              Yucatán             31    2308370\n",
              "263  2022            Zacatecas             32    1689080\n",
              "\n",
              "[264 rows x 4 columns]"
            ],
            "text/html": [
              "\n",
              "  <div id=\"df-619eb683-49e1-4216-b6ef-8224efcb196f\">\n",
              "    <div class=\"colab-df-container\">\n",
              "      <div>\n",
              "<style scoped>\n",
              "    .dataframe tbody tr th:only-of-type {\n",
              "        vertical-align: middle;\n",
              "    }\n",
              "\n",
              "    .dataframe tbody tr th {\n",
              "        vertical-align: top;\n",
              "    }\n",
              "\n",
              "    .dataframe thead th {\n",
              "        text-align: right;\n",
              "    }\n",
              "</style>\n",
              "<table border=\"1\" class=\"dataframe\">\n",
              "  <thead>\n",
              "    <tr style=\"text-align: right;\">\n",
              "      <th></th>\n",
              "      <th>año</th>\n",
              "      <th>entidad</th>\n",
              "      <th>clave_entidad</th>\n",
              "      <th>población</th>\n",
              "    </tr>\n",
              "  </thead>\n",
              "  <tbody>\n",
              "    <tr>\n",
              "      <th>0</th>\n",
              "      <td>2015</td>\n",
              "      <td>Aguascalientes</td>\n",
              "      <td>1</td>\n",
              "      <td>1331825</td>\n",
              "    </tr>\n",
              "    <tr>\n",
              "      <th>1</th>\n",
              "      <td>2015</td>\n",
              "      <td>Baja California</td>\n",
              "      <td>2</td>\n",
              "      <td>3357794</td>\n",
              "    </tr>\n",
              "    <tr>\n",
              "      <th>2</th>\n",
              "      <td>2015</td>\n",
              "      <td>Baja California Sur</td>\n",
              "      <td>3</td>\n",
              "      <td>719846</td>\n",
              "    </tr>\n",
              "    <tr>\n",
              "      <th>3</th>\n",
              "      <td>2015</td>\n",
              "      <td>Campeche</td>\n",
              "      <td>4</td>\n",
              "      <td>916832</td>\n",
              "    </tr>\n",
              "    <tr>\n",
              "      <th>4</th>\n",
              "      <td>2015</td>\n",
              "      <td>Chiapas</td>\n",
              "      <td>7</td>\n",
              "      <td>5307819</td>\n",
              "    </tr>\n",
              "    <tr>\n",
              "      <th>...</th>\n",
              "      <td>...</td>\n",
              "      <td>...</td>\n",
              "      <td>...</td>\n",
              "      <td>...</td>\n",
              "    </tr>\n",
              "    <tr>\n",
              "      <th>259</th>\n",
              "      <td>2022</td>\n",
              "      <td>Tamaulipas</td>\n",
              "      <td>28</td>\n",
              "      <td>3708008</td>\n",
              "    </tr>\n",
              "    <tr>\n",
              "      <th>260</th>\n",
              "      <td>2022</td>\n",
              "      <td>Tlaxcala</td>\n",
              "      <td>29</td>\n",
              "      <td>1410744</td>\n",
              "    </tr>\n",
              "    <tr>\n",
              "      <th>261</th>\n",
              "      <td>2022</td>\n",
              "      <td>Veracruz</td>\n",
              "      <td>30</td>\n",
              "      <td>8634299</td>\n",
              "    </tr>\n",
              "    <tr>\n",
              "      <th>262</th>\n",
              "      <td>2022</td>\n",
              "      <td>Yucatán</td>\n",
              "      <td>31</td>\n",
              "      <td>2308370</td>\n",
              "    </tr>\n",
              "    <tr>\n",
              "      <th>263</th>\n",
              "      <td>2022</td>\n",
              "      <td>Zacatecas</td>\n",
              "      <td>32</td>\n",
              "      <td>1689080</td>\n",
              "    </tr>\n",
              "  </tbody>\n",
              "</table>\n",
              "<p>264 rows × 4 columns</p>\n",
              "</div>\n",
              "      <button class=\"colab-df-convert\" onclick=\"convertToInteractive('df-619eb683-49e1-4216-b6ef-8224efcb196f')\"\n",
              "              title=\"Convert this dataframe to an interactive table.\"\n",
              "              style=\"display:none;\">\n",
              "        \n",
              "  <svg xmlns=\"http://www.w3.org/2000/svg\" height=\"24px\"viewBox=\"0 0 24 24\"\n",
              "       width=\"24px\">\n",
              "    <path d=\"M0 0h24v24H0V0z\" fill=\"none\"/>\n",
              "    <path d=\"M18.56 5.44l.94 2.06.94-2.06 2.06-.94-2.06-.94-.94-2.06-.94 2.06-2.06.94zm-11 1L8.5 8.5l.94-2.06 2.06-.94-2.06-.94L8.5 2.5l-.94 2.06-2.06.94zm10 10l.94 2.06.94-2.06 2.06-.94-2.06-.94-.94-2.06-.94 2.06-2.06.94z\"/><path d=\"M17.41 7.96l-1.37-1.37c-.4-.4-.92-.59-1.43-.59-.52 0-1.04.2-1.43.59L10.3 9.45l-7.72 7.72c-.78.78-.78 2.05 0 2.83L4 21.41c.39.39.9.59 1.41.59.51 0 1.02-.2 1.41-.59l7.78-7.78 2.81-2.81c.8-.78.8-2.07 0-2.86zM5.41 20L4 18.59l7.72-7.72 1.47 1.35L5.41 20z\"/>\n",
              "  </svg>\n",
              "      </button>\n",
              "      \n",
              "  <style>\n",
              "    .colab-df-container {\n",
              "      display:flex;\n",
              "      flex-wrap:wrap;\n",
              "      gap: 12px;\n",
              "    }\n",
              "\n",
              "    .colab-df-convert {\n",
              "      background-color: #E8F0FE;\n",
              "      border: none;\n",
              "      border-radius: 50%;\n",
              "      cursor: pointer;\n",
              "      display: none;\n",
              "      fill: #1967D2;\n",
              "      height: 32px;\n",
              "      padding: 0 0 0 0;\n",
              "      width: 32px;\n",
              "    }\n",
              "\n",
              "    .colab-df-convert:hover {\n",
              "      background-color: #E2EBFA;\n",
              "      box-shadow: 0px 1px 2px rgba(60, 64, 67, 0.3), 0px 1px 3px 1px rgba(60, 64, 67, 0.15);\n",
              "      fill: #174EA6;\n",
              "    }\n",
              "\n",
              "    [theme=dark] .colab-df-convert {\n",
              "      background-color: #3B4455;\n",
              "      fill: #D2E3FC;\n",
              "    }\n",
              "\n",
              "    [theme=dark] .colab-df-convert:hover {\n",
              "      background-color: #434B5C;\n",
              "      box-shadow: 0px 1px 3px 1px rgba(0, 0, 0, 0.15);\n",
              "      filter: drop-shadow(0px 1px 2px rgba(0, 0, 0, 0.3));\n",
              "      fill: #FFFFFF;\n",
              "    }\n",
              "  </style>\n",
              "\n",
              "      <script>\n",
              "        const buttonEl =\n",
              "          document.querySelector('#df-619eb683-49e1-4216-b6ef-8224efcb196f button.colab-df-convert');\n",
              "        buttonEl.style.display =\n",
              "          google.colab.kernel.accessAllowed ? 'block' : 'none';\n",
              "\n",
              "        async function convertToInteractive(key) {\n",
              "          const element = document.querySelector('#df-619eb683-49e1-4216-b6ef-8224efcb196f');\n",
              "          const dataTable =\n",
              "            await google.colab.kernel.invokeFunction('convertToInteractive',\n",
              "                                                     [key], {});\n",
              "          if (!dataTable) return;\n",
              "\n",
              "          const docLinkHtml = 'Like what you see? Visit the ' +\n",
              "            '<a target=\"_blank\" href=https://colab.research.google.com/notebooks/data_table.ipynb>data table notebook</a>'\n",
              "            + ' to learn more about interactive tables.';\n",
              "          element.innerHTML = '';\n",
              "          dataTable['output_type'] = 'display_data';\n",
              "          await google.colab.output.renderOutput(dataTable, element);\n",
              "          const docLink = document.createElement('div');\n",
              "          docLink.innerHTML = docLinkHtml;\n",
              "          element.appendChild(docLink);\n",
              "        }\n",
              "      </script>\n",
              "    </div>\n",
              "  </div>\n",
              "  "
            ]
          },
          "metadata": {},
          "execution_count": 47
        }
      ]
    },
    {
      "cell_type": "markdown",
      "source": [
        "#### Ya tenemos dos dataframes que pueden unir para vincular la población con los delitos cometidos por entidad "
      ],
      "metadata": {
        "id": "ZLfprrp6WY9k"
      }
    },
    {
      "cell_type": "code",
      "source": [
        "delitos=df.group.copy()"
      ],
      "metadata": {
        "id": "7sS2dopDWmpA"
      },
      "execution_count": null,
      "outputs": []
    },
    {
      "cell_type": "code",
      "source": [
        "poblacion=pmp.filter.copy()"
      ],
      "metadata": {
        "id": "4c_CCsE6WxFy"
      },
      "execution_count": null,
      "outputs": []
    },
    {
      "cell_type": "code",
      "source": [
        "delitos"
      ],
      "metadata": {
        "colab": {
          "base_uri": "https://localhost:8080/",
          "height": 627
        },
        "id": "cqn5bAxhW0Vl",
        "outputId": "69ac8fe5-0f85-4049-b0cc-fc8d4b6e8d6c"
      },
      "execution_count": null,
      "outputs": [
        {
          "output_type": "execute_result",
          "data": {
            "text/plain": [
              "        año  clave_entidad         entidad  \\\n",
              "0      2015              1  Aguascalientes   \n",
              "1      2015              1  Aguascalientes   \n",
              "2      2015              1  Aguascalientes   \n",
              "3      2015              1  Aguascalientes   \n",
              "4      2015              1  Aguascalientes   \n",
              "...     ...            ...             ...   \n",
              "25083  2022             32       Zacatecas   \n",
              "25084  2022             32       Zacatecas   \n",
              "25085  2022             32       Zacatecas   \n",
              "25086  2022             32       Zacatecas   \n",
              "25087  2022             32       Zacatecas   \n",
              "\n",
              "                                  bien_jurídico_afectado  \\\n",
              "0                                          El patrimonio   \n",
              "1                                          El patrimonio   \n",
              "2                                          El patrimonio   \n",
              "3                                          El patrimonio   \n",
              "4                                          El patrimonio   \n",
              "...                                                  ...   \n",
              "25083  Otros bienes jurídicos afectados (del fuero co...   \n",
              "25084  Otros bienes jurídicos afectados (del fuero co...   \n",
              "25085  Otros bienes jurídicos afectados (del fuero co...   \n",
              "25086  Otros bienes jurídicos afectados (del fuero co...   \n",
              "25087  Otros bienes jurídicos afectados (del fuero co...   \n",
              "\n",
              "                      tipo_de_delito              subtipo_de_delito  \\\n",
              "0                 Abuso de confianza             Abuso de confianza   \n",
              "1                Daño a la propiedad            Daño a la propiedad   \n",
              "2                            Despojo                        Despojo   \n",
              "3                          Extorsión                      Extorsión   \n",
              "4                             Fraude                         Fraude   \n",
              "...                              ...                            ...   \n",
              "25083              Evasión de presos              Evasión de presos   \n",
              "25084                       Falsedad                       Falsedad   \n",
              "25085                  Falsificación                  Falsificación   \n",
              "25086                   Narcomenudeo                   Narcomenudeo   \n",
              "25087  Otros delitos del Fuero Común  Otros delitos del Fuero Común   \n",
              "\n",
              "                           modalidad  enero  febrero  marzo  abril  mayo  \\\n",
              "0                 Abuso de confianza     41       33     31     22    36   \n",
              "1                Daño a la propiedad    201      180    182    160   121   \n",
              "2                            Despojo     19       15     13     14    13   \n",
              "3                          Extorsión      2        4      1      5     7   \n",
              "4                             Fraude    119       60    104    116    81   \n",
              "...                              ...    ...      ...    ...    ...   ...   \n",
              "25083              Evasión de presos      2        0      1      0     0   \n",
              "25084                       Falsedad     13       20     16     16    16   \n",
              "25085                  Falsificación      5       14      7     10     9   \n",
              "25086                   Narcomenudeo     28       21     20     24    42   \n",
              "25087  Otros delitos del Fuero Común    146      122    174    150   134   \n",
              "\n",
              "       junio  julio  agosto  septiembre  octubre  noviembre  diciembre  \n",
              "0         43     30      40          40       34         43         26  \n",
              "1        166    160     151         178      133        121        107  \n",
              "2         19     12      15          19       22         10          8  \n",
              "3          2      1       3           2        6          4          2  \n",
              "4        110    101      77          80       97         75         67  \n",
              "...      ...    ...     ...         ...      ...        ...        ...  \n",
              "25083      0      0       0           0        0          0          0  \n",
              "25084     11      8      19          27       16         19         17  \n",
              "25085     19      6       5          10       10         13          8  \n",
              "25086     38     36      34          16       14         21         12  \n",
              "25087    170    139     183         158      122        119        122  \n",
              "\n",
              "[25088 rows x 19 columns]"
            ],
            "text/html": [
              "\n",
              "  <div id=\"df-402b8761-24e2-4180-997b-dc1af74d387c\">\n",
              "    <div class=\"colab-df-container\">\n",
              "      <div>\n",
              "<style scoped>\n",
              "    .dataframe tbody tr th:only-of-type {\n",
              "        vertical-align: middle;\n",
              "    }\n",
              "\n",
              "    .dataframe tbody tr th {\n",
              "        vertical-align: top;\n",
              "    }\n",
              "\n",
              "    .dataframe thead th {\n",
              "        text-align: right;\n",
              "    }\n",
              "</style>\n",
              "<table border=\"1\" class=\"dataframe\">\n",
              "  <thead>\n",
              "    <tr style=\"text-align: right;\">\n",
              "      <th></th>\n",
              "      <th>año</th>\n",
              "      <th>clave_entidad</th>\n",
              "      <th>entidad</th>\n",
              "      <th>bien_jurídico_afectado</th>\n",
              "      <th>tipo_de_delito</th>\n",
              "      <th>subtipo_de_delito</th>\n",
              "      <th>modalidad</th>\n",
              "      <th>enero</th>\n",
              "      <th>febrero</th>\n",
              "      <th>marzo</th>\n",
              "      <th>abril</th>\n",
              "      <th>mayo</th>\n",
              "      <th>junio</th>\n",
              "      <th>julio</th>\n",
              "      <th>agosto</th>\n",
              "      <th>septiembre</th>\n",
              "      <th>octubre</th>\n",
              "      <th>noviembre</th>\n",
              "      <th>diciembre</th>\n",
              "    </tr>\n",
              "  </thead>\n",
              "  <tbody>\n",
              "    <tr>\n",
              "      <th>0</th>\n",
              "      <td>2015</td>\n",
              "      <td>1</td>\n",
              "      <td>Aguascalientes</td>\n",
              "      <td>El patrimonio</td>\n",
              "      <td>Abuso de confianza</td>\n",
              "      <td>Abuso de confianza</td>\n",
              "      <td>Abuso de confianza</td>\n",
              "      <td>41</td>\n",
              "      <td>33</td>\n",
              "      <td>31</td>\n",
              "      <td>22</td>\n",
              "      <td>36</td>\n",
              "      <td>43</td>\n",
              "      <td>30</td>\n",
              "      <td>40</td>\n",
              "      <td>40</td>\n",
              "      <td>34</td>\n",
              "      <td>43</td>\n",
              "      <td>26</td>\n",
              "    </tr>\n",
              "    <tr>\n",
              "      <th>1</th>\n",
              "      <td>2015</td>\n",
              "      <td>1</td>\n",
              "      <td>Aguascalientes</td>\n",
              "      <td>El patrimonio</td>\n",
              "      <td>Daño a la propiedad</td>\n",
              "      <td>Daño a la propiedad</td>\n",
              "      <td>Daño a la propiedad</td>\n",
              "      <td>201</td>\n",
              "      <td>180</td>\n",
              "      <td>182</td>\n",
              "      <td>160</td>\n",
              "      <td>121</td>\n",
              "      <td>166</td>\n",
              "      <td>160</td>\n",
              "      <td>151</td>\n",
              "      <td>178</td>\n",
              "      <td>133</td>\n",
              "      <td>121</td>\n",
              "      <td>107</td>\n",
              "    </tr>\n",
              "    <tr>\n",
              "      <th>2</th>\n",
              "      <td>2015</td>\n",
              "      <td>1</td>\n",
              "      <td>Aguascalientes</td>\n",
              "      <td>El patrimonio</td>\n",
              "      <td>Despojo</td>\n",
              "      <td>Despojo</td>\n",
              "      <td>Despojo</td>\n",
              "      <td>19</td>\n",
              "      <td>15</td>\n",
              "      <td>13</td>\n",
              "      <td>14</td>\n",
              "      <td>13</td>\n",
              "      <td>19</td>\n",
              "      <td>12</td>\n",
              "      <td>15</td>\n",
              "      <td>19</td>\n",
              "      <td>22</td>\n",
              "      <td>10</td>\n",
              "      <td>8</td>\n",
              "    </tr>\n",
              "    <tr>\n",
              "      <th>3</th>\n",
              "      <td>2015</td>\n",
              "      <td>1</td>\n",
              "      <td>Aguascalientes</td>\n",
              "      <td>El patrimonio</td>\n",
              "      <td>Extorsión</td>\n",
              "      <td>Extorsión</td>\n",
              "      <td>Extorsión</td>\n",
              "      <td>2</td>\n",
              "      <td>4</td>\n",
              "      <td>1</td>\n",
              "      <td>5</td>\n",
              "      <td>7</td>\n",
              "      <td>2</td>\n",
              "      <td>1</td>\n",
              "      <td>3</td>\n",
              "      <td>2</td>\n",
              "      <td>6</td>\n",
              "      <td>4</td>\n",
              "      <td>2</td>\n",
              "    </tr>\n",
              "    <tr>\n",
              "      <th>4</th>\n",
              "      <td>2015</td>\n",
              "      <td>1</td>\n",
              "      <td>Aguascalientes</td>\n",
              "      <td>El patrimonio</td>\n",
              "      <td>Fraude</td>\n",
              "      <td>Fraude</td>\n",
              "      <td>Fraude</td>\n",
              "      <td>119</td>\n",
              "      <td>60</td>\n",
              "      <td>104</td>\n",
              "      <td>116</td>\n",
              "      <td>81</td>\n",
              "      <td>110</td>\n",
              "      <td>101</td>\n",
              "      <td>77</td>\n",
              "      <td>80</td>\n",
              "      <td>97</td>\n",
              "      <td>75</td>\n",
              "      <td>67</td>\n",
              "    </tr>\n",
              "    <tr>\n",
              "      <th>...</th>\n",
              "      <td>...</td>\n",
              "      <td>...</td>\n",
              "      <td>...</td>\n",
              "      <td>...</td>\n",
              "      <td>...</td>\n",
              "      <td>...</td>\n",
              "      <td>...</td>\n",
              "      <td>...</td>\n",
              "      <td>...</td>\n",
              "      <td>...</td>\n",
              "      <td>...</td>\n",
              "      <td>...</td>\n",
              "      <td>...</td>\n",
              "      <td>...</td>\n",
              "      <td>...</td>\n",
              "      <td>...</td>\n",
              "      <td>...</td>\n",
              "      <td>...</td>\n",
              "      <td>...</td>\n",
              "    </tr>\n",
              "    <tr>\n",
              "      <th>25083</th>\n",
              "      <td>2022</td>\n",
              "      <td>32</td>\n",
              "      <td>Zacatecas</td>\n",
              "      <td>Otros bienes jurídicos afectados (del fuero co...</td>\n",
              "      <td>Evasión de presos</td>\n",
              "      <td>Evasión de presos</td>\n",
              "      <td>Evasión de presos</td>\n",
              "      <td>2</td>\n",
              "      <td>0</td>\n",
              "      <td>1</td>\n",
              "      <td>0</td>\n",
              "      <td>0</td>\n",
              "      <td>0</td>\n",
              "      <td>0</td>\n",
              "      <td>0</td>\n",
              "      <td>0</td>\n",
              "      <td>0</td>\n",
              "      <td>0</td>\n",
              "      <td>0</td>\n",
              "    </tr>\n",
              "    <tr>\n",
              "      <th>25084</th>\n",
              "      <td>2022</td>\n",
              "      <td>32</td>\n",
              "      <td>Zacatecas</td>\n",
              "      <td>Otros bienes jurídicos afectados (del fuero co...</td>\n",
              "      <td>Falsedad</td>\n",
              "      <td>Falsedad</td>\n",
              "      <td>Falsedad</td>\n",
              "      <td>13</td>\n",
              "      <td>20</td>\n",
              "      <td>16</td>\n",
              "      <td>16</td>\n",
              "      <td>16</td>\n",
              "      <td>11</td>\n",
              "      <td>8</td>\n",
              "      <td>19</td>\n",
              "      <td>27</td>\n",
              "      <td>16</td>\n",
              "      <td>19</td>\n",
              "      <td>17</td>\n",
              "    </tr>\n",
              "    <tr>\n",
              "      <th>25085</th>\n",
              "      <td>2022</td>\n",
              "      <td>32</td>\n",
              "      <td>Zacatecas</td>\n",
              "      <td>Otros bienes jurídicos afectados (del fuero co...</td>\n",
              "      <td>Falsificación</td>\n",
              "      <td>Falsificación</td>\n",
              "      <td>Falsificación</td>\n",
              "      <td>5</td>\n",
              "      <td>14</td>\n",
              "      <td>7</td>\n",
              "      <td>10</td>\n",
              "      <td>9</td>\n",
              "      <td>19</td>\n",
              "      <td>6</td>\n",
              "      <td>5</td>\n",
              "      <td>10</td>\n",
              "      <td>10</td>\n",
              "      <td>13</td>\n",
              "      <td>8</td>\n",
              "    </tr>\n",
              "    <tr>\n",
              "      <th>25086</th>\n",
              "      <td>2022</td>\n",
              "      <td>32</td>\n",
              "      <td>Zacatecas</td>\n",
              "      <td>Otros bienes jurídicos afectados (del fuero co...</td>\n",
              "      <td>Narcomenudeo</td>\n",
              "      <td>Narcomenudeo</td>\n",
              "      <td>Narcomenudeo</td>\n",
              "      <td>28</td>\n",
              "      <td>21</td>\n",
              "      <td>20</td>\n",
              "      <td>24</td>\n",
              "      <td>42</td>\n",
              "      <td>38</td>\n",
              "      <td>36</td>\n",
              "      <td>34</td>\n",
              "      <td>16</td>\n",
              "      <td>14</td>\n",
              "      <td>21</td>\n",
              "      <td>12</td>\n",
              "    </tr>\n",
              "    <tr>\n",
              "      <th>25087</th>\n",
              "      <td>2022</td>\n",
              "      <td>32</td>\n",
              "      <td>Zacatecas</td>\n",
              "      <td>Otros bienes jurídicos afectados (del fuero co...</td>\n",
              "      <td>Otros delitos del Fuero Común</td>\n",
              "      <td>Otros delitos del Fuero Común</td>\n",
              "      <td>Otros delitos del Fuero Común</td>\n",
              "      <td>146</td>\n",
              "      <td>122</td>\n",
              "      <td>174</td>\n",
              "      <td>150</td>\n",
              "      <td>134</td>\n",
              "      <td>170</td>\n",
              "      <td>139</td>\n",
              "      <td>183</td>\n",
              "      <td>158</td>\n",
              "      <td>122</td>\n",
              "      <td>119</td>\n",
              "      <td>122</td>\n",
              "    </tr>\n",
              "  </tbody>\n",
              "</table>\n",
              "<p>25088 rows × 19 columns</p>\n",
              "</div>\n",
              "      <button class=\"colab-df-convert\" onclick=\"convertToInteractive('df-402b8761-24e2-4180-997b-dc1af74d387c')\"\n",
              "              title=\"Convert this dataframe to an interactive table.\"\n",
              "              style=\"display:none;\">\n",
              "        \n",
              "  <svg xmlns=\"http://www.w3.org/2000/svg\" height=\"24px\"viewBox=\"0 0 24 24\"\n",
              "       width=\"24px\">\n",
              "    <path d=\"M0 0h24v24H0V0z\" fill=\"none\"/>\n",
              "    <path d=\"M18.56 5.44l.94 2.06.94-2.06 2.06-.94-2.06-.94-.94-2.06-.94 2.06-2.06.94zm-11 1L8.5 8.5l.94-2.06 2.06-.94-2.06-.94L8.5 2.5l-.94 2.06-2.06.94zm10 10l.94 2.06.94-2.06 2.06-.94-2.06-.94-.94-2.06-.94 2.06-2.06.94z\"/><path d=\"M17.41 7.96l-1.37-1.37c-.4-.4-.92-.59-1.43-.59-.52 0-1.04.2-1.43.59L10.3 9.45l-7.72 7.72c-.78.78-.78 2.05 0 2.83L4 21.41c.39.39.9.59 1.41.59.51 0 1.02-.2 1.41-.59l7.78-7.78 2.81-2.81c.8-.78.8-2.07 0-2.86zM5.41 20L4 18.59l7.72-7.72 1.47 1.35L5.41 20z\"/>\n",
              "  </svg>\n",
              "      </button>\n",
              "      \n",
              "  <style>\n",
              "    .colab-df-container {\n",
              "      display:flex;\n",
              "      flex-wrap:wrap;\n",
              "      gap: 12px;\n",
              "    }\n",
              "\n",
              "    .colab-df-convert {\n",
              "      background-color: #E8F0FE;\n",
              "      border: none;\n",
              "      border-radius: 50%;\n",
              "      cursor: pointer;\n",
              "      display: none;\n",
              "      fill: #1967D2;\n",
              "      height: 32px;\n",
              "      padding: 0 0 0 0;\n",
              "      width: 32px;\n",
              "    }\n",
              "\n",
              "    .colab-df-convert:hover {\n",
              "      background-color: #E2EBFA;\n",
              "      box-shadow: 0px 1px 2px rgba(60, 64, 67, 0.3), 0px 1px 3px 1px rgba(60, 64, 67, 0.15);\n",
              "      fill: #174EA6;\n",
              "    }\n",
              "\n",
              "    [theme=dark] .colab-df-convert {\n",
              "      background-color: #3B4455;\n",
              "      fill: #D2E3FC;\n",
              "    }\n",
              "\n",
              "    [theme=dark] .colab-df-convert:hover {\n",
              "      background-color: #434B5C;\n",
              "      box-shadow: 0px 1px 3px 1px rgba(0, 0, 0, 0.15);\n",
              "      filter: drop-shadow(0px 1px 2px rgba(0, 0, 0, 0.3));\n",
              "      fill: #FFFFFF;\n",
              "    }\n",
              "  </style>\n",
              "\n",
              "      <script>\n",
              "        const buttonEl =\n",
              "          document.querySelector('#df-402b8761-24e2-4180-997b-dc1af74d387c button.colab-df-convert');\n",
              "        buttonEl.style.display =\n",
              "          google.colab.kernel.accessAllowed ? 'block' : 'none';\n",
              "\n",
              "        async function convertToInteractive(key) {\n",
              "          const element = document.querySelector('#df-402b8761-24e2-4180-997b-dc1af74d387c');\n",
              "          const dataTable =\n",
              "            await google.colab.kernel.invokeFunction('convertToInteractive',\n",
              "                                                     [key], {});\n",
              "          if (!dataTable) return;\n",
              "\n",
              "          const docLinkHtml = 'Like what you see? Visit the ' +\n",
              "            '<a target=\"_blank\" href=https://colab.research.google.com/notebooks/data_table.ipynb>data table notebook</a>'\n",
              "            + ' to learn more about interactive tables.';\n",
              "          element.innerHTML = '';\n",
              "          dataTable['output_type'] = 'display_data';\n",
              "          await google.colab.output.renderOutput(dataTable, element);\n",
              "          const docLink = document.createElement('div');\n",
              "          docLink.innerHTML = docLinkHtml;\n",
              "          element.appendChild(docLink);\n",
              "        }\n",
              "      </script>\n",
              "    </div>\n",
              "  </div>\n",
              "  "
            ]
          },
          "metadata": {},
          "execution_count": 50
        }
      ]
    },
    {
      "cell_type": "code",
      "source": [
        "poblacion"
      ],
      "metadata": {
        "colab": {
          "base_uri": "https://localhost:8080/",
          "height": 424
        },
        "id": "2VCG1sHgW7Mg",
        "outputId": "1c4afcc0-ef24-4291-b2b3-a5f9ceee038f"
      },
      "execution_count": null,
      "outputs": [
        {
          "output_type": "execute_result",
          "data": {
            "text/plain": [
              "      año              entidad  clave_entidad  población\n",
              "0    2015       Aguascalientes              1    1331825\n",
              "1    2015      Baja California              2    3357794\n",
              "2    2015  Baja California Sur              3     719846\n",
              "3    2015             Campeche              4     916832\n",
              "4    2015              Chiapas              7    5307819\n",
              "..    ...                  ...            ...        ...\n",
              "259  2022           Tamaulipas             28    3708008\n",
              "260  2022             Tlaxcala             29    1410744\n",
              "261  2022             Veracruz             30    8634299\n",
              "262  2022              Yucatán             31    2308370\n",
              "263  2022            Zacatecas             32    1689080\n",
              "\n",
              "[264 rows x 4 columns]"
            ],
            "text/html": [
              "\n",
              "  <div id=\"df-e4397927-dd87-4c97-a3e0-2d2cedcd7328\">\n",
              "    <div class=\"colab-df-container\">\n",
              "      <div>\n",
              "<style scoped>\n",
              "    .dataframe tbody tr th:only-of-type {\n",
              "        vertical-align: middle;\n",
              "    }\n",
              "\n",
              "    .dataframe tbody tr th {\n",
              "        vertical-align: top;\n",
              "    }\n",
              "\n",
              "    .dataframe thead th {\n",
              "        text-align: right;\n",
              "    }\n",
              "</style>\n",
              "<table border=\"1\" class=\"dataframe\">\n",
              "  <thead>\n",
              "    <tr style=\"text-align: right;\">\n",
              "      <th></th>\n",
              "      <th>año</th>\n",
              "      <th>entidad</th>\n",
              "      <th>clave_entidad</th>\n",
              "      <th>población</th>\n",
              "    </tr>\n",
              "  </thead>\n",
              "  <tbody>\n",
              "    <tr>\n",
              "      <th>0</th>\n",
              "      <td>2015</td>\n",
              "      <td>Aguascalientes</td>\n",
              "      <td>1</td>\n",
              "      <td>1331825</td>\n",
              "    </tr>\n",
              "    <tr>\n",
              "      <th>1</th>\n",
              "      <td>2015</td>\n",
              "      <td>Baja California</td>\n",
              "      <td>2</td>\n",
              "      <td>3357794</td>\n",
              "    </tr>\n",
              "    <tr>\n",
              "      <th>2</th>\n",
              "      <td>2015</td>\n",
              "      <td>Baja California Sur</td>\n",
              "      <td>3</td>\n",
              "      <td>719846</td>\n",
              "    </tr>\n",
              "    <tr>\n",
              "      <th>3</th>\n",
              "      <td>2015</td>\n",
              "      <td>Campeche</td>\n",
              "      <td>4</td>\n",
              "      <td>916832</td>\n",
              "    </tr>\n",
              "    <tr>\n",
              "      <th>4</th>\n",
              "      <td>2015</td>\n",
              "      <td>Chiapas</td>\n",
              "      <td>7</td>\n",
              "      <td>5307819</td>\n",
              "    </tr>\n",
              "    <tr>\n",
              "      <th>...</th>\n",
              "      <td>...</td>\n",
              "      <td>...</td>\n",
              "      <td>...</td>\n",
              "      <td>...</td>\n",
              "    </tr>\n",
              "    <tr>\n",
              "      <th>259</th>\n",
              "      <td>2022</td>\n",
              "      <td>Tamaulipas</td>\n",
              "      <td>28</td>\n",
              "      <td>3708008</td>\n",
              "    </tr>\n",
              "    <tr>\n",
              "      <th>260</th>\n",
              "      <td>2022</td>\n",
              "      <td>Tlaxcala</td>\n",
              "      <td>29</td>\n",
              "      <td>1410744</td>\n",
              "    </tr>\n",
              "    <tr>\n",
              "      <th>261</th>\n",
              "      <td>2022</td>\n",
              "      <td>Veracruz</td>\n",
              "      <td>30</td>\n",
              "      <td>8634299</td>\n",
              "    </tr>\n",
              "    <tr>\n",
              "      <th>262</th>\n",
              "      <td>2022</td>\n",
              "      <td>Yucatán</td>\n",
              "      <td>31</td>\n",
              "      <td>2308370</td>\n",
              "    </tr>\n",
              "    <tr>\n",
              "      <th>263</th>\n",
              "      <td>2022</td>\n",
              "      <td>Zacatecas</td>\n",
              "      <td>32</td>\n",
              "      <td>1689080</td>\n",
              "    </tr>\n",
              "  </tbody>\n",
              "</table>\n",
              "<p>264 rows × 4 columns</p>\n",
              "</div>\n",
              "      <button class=\"colab-df-convert\" onclick=\"convertToInteractive('df-e4397927-dd87-4c97-a3e0-2d2cedcd7328')\"\n",
              "              title=\"Convert this dataframe to an interactive table.\"\n",
              "              style=\"display:none;\">\n",
              "        \n",
              "  <svg xmlns=\"http://www.w3.org/2000/svg\" height=\"24px\"viewBox=\"0 0 24 24\"\n",
              "       width=\"24px\">\n",
              "    <path d=\"M0 0h24v24H0V0z\" fill=\"none\"/>\n",
              "    <path d=\"M18.56 5.44l.94 2.06.94-2.06 2.06-.94-2.06-.94-.94-2.06-.94 2.06-2.06.94zm-11 1L8.5 8.5l.94-2.06 2.06-.94-2.06-.94L8.5 2.5l-.94 2.06-2.06.94zm10 10l.94 2.06.94-2.06 2.06-.94-2.06-.94-.94-2.06-.94 2.06-2.06.94z\"/><path d=\"M17.41 7.96l-1.37-1.37c-.4-.4-.92-.59-1.43-.59-.52 0-1.04.2-1.43.59L10.3 9.45l-7.72 7.72c-.78.78-.78 2.05 0 2.83L4 21.41c.39.39.9.59 1.41.59.51 0 1.02-.2 1.41-.59l7.78-7.78 2.81-2.81c.8-.78.8-2.07 0-2.86zM5.41 20L4 18.59l7.72-7.72 1.47 1.35L5.41 20z\"/>\n",
              "  </svg>\n",
              "      </button>\n",
              "      \n",
              "  <style>\n",
              "    .colab-df-container {\n",
              "      display:flex;\n",
              "      flex-wrap:wrap;\n",
              "      gap: 12px;\n",
              "    }\n",
              "\n",
              "    .colab-df-convert {\n",
              "      background-color: #E8F0FE;\n",
              "      border: none;\n",
              "      border-radius: 50%;\n",
              "      cursor: pointer;\n",
              "      display: none;\n",
              "      fill: #1967D2;\n",
              "      height: 32px;\n",
              "      padding: 0 0 0 0;\n",
              "      width: 32px;\n",
              "    }\n",
              "\n",
              "    .colab-df-convert:hover {\n",
              "      background-color: #E2EBFA;\n",
              "      box-shadow: 0px 1px 2px rgba(60, 64, 67, 0.3), 0px 1px 3px 1px rgba(60, 64, 67, 0.15);\n",
              "      fill: #174EA6;\n",
              "    }\n",
              "\n",
              "    [theme=dark] .colab-df-convert {\n",
              "      background-color: #3B4455;\n",
              "      fill: #D2E3FC;\n",
              "    }\n",
              "\n",
              "    [theme=dark] .colab-df-convert:hover {\n",
              "      background-color: #434B5C;\n",
              "      box-shadow: 0px 1px 3px 1px rgba(0, 0, 0, 0.15);\n",
              "      filter: drop-shadow(0px 1px 2px rgba(0, 0, 0, 0.3));\n",
              "      fill: #FFFFFF;\n",
              "    }\n",
              "  </style>\n",
              "\n",
              "      <script>\n",
              "        const buttonEl =\n",
              "          document.querySelector('#df-e4397927-dd87-4c97-a3e0-2d2cedcd7328 button.colab-df-convert');\n",
              "        buttonEl.style.display =\n",
              "          google.colab.kernel.accessAllowed ? 'block' : 'none';\n",
              "\n",
              "        async function convertToInteractive(key) {\n",
              "          const element = document.querySelector('#df-e4397927-dd87-4c97-a3e0-2d2cedcd7328');\n",
              "          const dataTable =\n",
              "            await google.colab.kernel.invokeFunction('convertToInteractive',\n",
              "                                                     [key], {});\n",
              "          if (!dataTable) return;\n",
              "\n",
              "          const docLinkHtml = 'Like what you see? Visit the ' +\n",
              "            '<a target=\"_blank\" href=https://colab.research.google.com/notebooks/data_table.ipynb>data table notebook</a>'\n",
              "            + ' to learn more about interactive tables.';\n",
              "          element.innerHTML = '';\n",
              "          dataTable['output_type'] = 'display_data';\n",
              "          await google.colab.output.renderOutput(dataTable, element);\n",
              "          const docLink = document.createElement('div');\n",
              "          docLink.innerHTML = docLinkHtml;\n",
              "          element.appendChild(docLink);\n",
              "        }\n",
              "      </script>\n",
              "    </div>\n",
              "  </div>\n",
              "  "
            ]
          },
          "metadata": {},
          "execution_count": 51
        }
      ]
    },
    {
      "cell_type": "markdown",
      "source": [
        "#### Merge"
      ],
      "metadata": {
        "id": "FbMCEVKxXkgg"
      }
    },
    {
      "cell_type": "code",
      "source": [
        "#Eliminamos la columna entidad del dataframe de la poblacióa para evitar la duplicidad de esta columna en el merge \n",
        "poblacion=poblacion.drop(columns=['entidad'])"
      ],
      "metadata": {
        "id": "OijwvfRBK5OU"
      },
      "execution_count": null,
      "outputs": []
    },
    {
      "cell_type": "code",
      "source": [
        "#pd.merge(left=delitos,right=poblacion, how='left', left_on=['año','clave_entidad'], right_on=['año','clave_entidad'])\n",
        "delitos_poblacion=pd.merge(delitos,poblacion, how='left',on=['año','clave_entidad'])"
      ],
      "metadata": {
        "id": "LSDW4R3WbVdH"
      },
      "execution_count": null,
      "outputs": []
    },
    {
      "cell_type": "markdown",
      "source": [
        "#### Nuevas columnas a los dataframes\n",
        "+ El dataframe de `delitos_poblacion` necesita una nueva columna con la suma total delitos por mes.\n",
        "+ Y una columna para la `tasa de delitos`"
      ],
      "metadata": {
        "id": "0ZDrUfKFv9zr"
      }
    },
    {
      "cell_type": "code",
      "source": [
        "meses=['enero', 'febrero', 'marzo', 'abril', 'mayo', 'junio','julio', 'agosto', 'septiembre', 'octubre', 'noviembre', 'diciembre']\n",
        "delitos_poblacion[\"totales\"]=delitos_poblacion[meses].sum(axis=1)"
      ],
      "metadata": {
        "id": "-9aysQZLwaVb"
      },
      "execution_count": null,
      "outputs": []
    },
    {
      "cell_type": "markdown",
      "source": [
        "Calculamos la tasa de delitos por cada 100,000 habitantes."
      ],
      "metadata": {
        "id": "Y884lITXwnp7"
      }
    },
    {
      "cell_type": "code",
      "source": [
        "delitos_poblacion['tasa']=delitos_poblacion.apply(lambda x: 100000*x.totales/x.población, axis = 1)"
      ],
      "metadata": {
        "id": "yfg6zY24wie7"
      },
      "execution_count": null,
      "outputs": []
    },
    {
      "cell_type": "markdown",
      "source": [
        "#### Últimos detalles y verificación del dataframe\n",
        "Verificamos que la informacion sea consistente, tipos de datos y que no haya valores NaN en el dataframe resultante"
      ],
      "metadata": {
        "id": "ETIrkxMHcRKS"
      }
    },
    {
      "cell_type": "code",
      "source": [
        "delitos_poblacion.shape"
      ],
      "metadata": {
        "colab": {
          "base_uri": "https://localhost:8080/"
        },
        "id": "Fn_jbAjNcQ0V",
        "outputId": "d670653e-c635-470f-8a5b-d9bb8e29c71b"
      },
      "execution_count": null,
      "outputs": [
        {
          "output_type": "execute_result",
          "data": {
            "text/plain": [
              "(25088, 22)"
            ]
          },
          "metadata": {},
          "execution_count": 56
        }
      ]
    },
    {
      "cell_type": "code",
      "source": [
        "delitos_poblacion.info()"
      ],
      "metadata": {
        "colab": {
          "base_uri": "https://localhost:8080/"
        },
        "id": "N9SEPnh5cr1V",
        "outputId": "1dfb2e46-0258-4d85-9e2c-4f7107f7a4a1"
      },
      "execution_count": null,
      "outputs": [
        {
          "output_type": "stream",
          "name": "stdout",
          "text": [
            "<class 'pandas.core.frame.DataFrame'>\n",
            "Int64Index: 25088 entries, 0 to 25087\n",
            "Data columns (total 22 columns):\n",
            " #   Column                  Non-Null Count  Dtype  \n",
            "---  ------                  --------------  -----  \n",
            " 0   año                     25088 non-null  int64  \n",
            " 1   clave_entidad           25088 non-null  int64  \n",
            " 2   entidad                 25088 non-null  object \n",
            " 3   bien_jurídico_afectado  25088 non-null  object \n",
            " 4   tipo_de_delito          25088 non-null  object \n",
            " 5   subtipo_de_delito       25088 non-null  object \n",
            " 6   modalidad               25088 non-null  object \n",
            " 7   enero                   25088 non-null  int64  \n",
            " 8   febrero                 25088 non-null  int64  \n",
            " 9   marzo                   25088 non-null  int64  \n",
            " 10  abril                   25088 non-null  int64  \n",
            " 11  mayo                    25088 non-null  int64  \n",
            " 12  junio                   25088 non-null  int64  \n",
            " 13  julio                   25088 non-null  int64  \n",
            " 14  agosto                  25088 non-null  int64  \n",
            " 15  septiembre              25088 non-null  int64  \n",
            " 16  octubre                 25088 non-null  int64  \n",
            " 17  noviembre               25088 non-null  int64  \n",
            " 18  diciembre               25088 non-null  int64  \n",
            " 19  población               25088 non-null  int64  \n",
            " 20  totales                 25088 non-null  int64  \n",
            " 21  tasa                    25088 non-null  float64\n",
            "dtypes: float64(1), int64(16), object(5)\n",
            "memory usage: 4.4+ MB\n"
          ]
        }
      ]
    },
    {
      "cell_type": "code",
      "source": [
        "delitos_poblacion.isna().sum(axis=0)"
      ],
      "metadata": {
        "colab": {
          "base_uri": "https://localhost:8080/"
        },
        "id": "3qz2ONwIdF30",
        "outputId": "36f33d2a-84e6-45fc-9600-bedb2f311d03"
      },
      "execution_count": null,
      "outputs": [
        {
          "output_type": "execute_result",
          "data": {
            "text/plain": [
              "año                       0\n",
              "clave_entidad             0\n",
              "entidad                   0\n",
              "bien_jurídico_afectado    0\n",
              "tipo_de_delito            0\n",
              "subtipo_de_delito         0\n",
              "modalidad                 0\n",
              "enero                     0\n",
              "febrero                   0\n",
              "marzo                     0\n",
              "abril                     0\n",
              "mayo                      0\n",
              "junio                     0\n",
              "julio                     0\n",
              "agosto                    0\n",
              "septiembre                0\n",
              "octubre                   0\n",
              "noviembre                 0\n",
              "diciembre                 0\n",
              "población                 0\n",
              "totales                   0\n",
              "tasa                      0\n",
              "dtype: int64"
            ]
          },
          "metadata": {},
          "execution_count": 58
        }
      ]
    },
    {
      "cell_type": "code",
      "source": [
        "delitos_poblacion"
      ],
      "metadata": {
        "colab": {
          "base_uri": "https://localhost:8080/",
          "height": 627
        },
        "id": "Xzw6rY2szoP9",
        "outputId": "bb71fd8d-2f33-416b-c758-635ac84d544a"
      },
      "execution_count": null,
      "outputs": [
        {
          "output_type": "execute_result",
          "data": {
            "text/plain": [
              "        año  clave_entidad         entidad  \\\n",
              "0      2015              1  Aguascalientes   \n",
              "1      2015              1  Aguascalientes   \n",
              "2      2015              1  Aguascalientes   \n",
              "3      2015              1  Aguascalientes   \n",
              "4      2015              1  Aguascalientes   \n",
              "...     ...            ...             ...   \n",
              "25083  2022             32       Zacatecas   \n",
              "25084  2022             32       Zacatecas   \n",
              "25085  2022             32       Zacatecas   \n",
              "25086  2022             32       Zacatecas   \n",
              "25087  2022             32       Zacatecas   \n",
              "\n",
              "                                  bien_jurídico_afectado  \\\n",
              "0                                          El patrimonio   \n",
              "1                                          El patrimonio   \n",
              "2                                          El patrimonio   \n",
              "3                                          El patrimonio   \n",
              "4                                          El patrimonio   \n",
              "...                                                  ...   \n",
              "25083  Otros bienes jurídicos afectados (del fuero co...   \n",
              "25084  Otros bienes jurídicos afectados (del fuero co...   \n",
              "25085  Otros bienes jurídicos afectados (del fuero co...   \n",
              "25086  Otros bienes jurídicos afectados (del fuero co...   \n",
              "25087  Otros bienes jurídicos afectados (del fuero co...   \n",
              "\n",
              "                      tipo_de_delito              subtipo_de_delito  \\\n",
              "0                 Abuso de confianza             Abuso de confianza   \n",
              "1                Daño a la propiedad            Daño a la propiedad   \n",
              "2                            Despojo                        Despojo   \n",
              "3                          Extorsión                      Extorsión   \n",
              "4                             Fraude                         Fraude   \n",
              "...                              ...                            ...   \n",
              "25083              Evasión de presos              Evasión de presos   \n",
              "25084                       Falsedad                       Falsedad   \n",
              "25085                  Falsificación                  Falsificación   \n",
              "25086                   Narcomenudeo                   Narcomenudeo   \n",
              "25087  Otros delitos del Fuero Común  Otros delitos del Fuero Común   \n",
              "\n",
              "                           modalidad  enero  febrero  marzo  ...  junio  \\\n",
              "0                 Abuso de confianza     41       33     31  ...     43   \n",
              "1                Daño a la propiedad    201      180    182  ...    166   \n",
              "2                            Despojo     19       15     13  ...     19   \n",
              "3                          Extorsión      2        4      1  ...      2   \n",
              "4                             Fraude    119       60    104  ...    110   \n",
              "...                              ...    ...      ...    ...  ...    ...   \n",
              "25083              Evasión de presos      2        0      1  ...      0   \n",
              "25084                       Falsedad     13       20     16  ...     11   \n",
              "25085                  Falsificación      5       14      7  ...     19   \n",
              "25086                   Narcomenudeo     28       21     20  ...     38   \n",
              "25087  Otros delitos del Fuero Común    146      122    174  ...    170   \n",
              "\n",
              "       julio  agosto  septiembre  octubre  noviembre  diciembre  población  \\\n",
              "0         30      40          40       34         43         26    1331825   \n",
              "1        160     151         178      133        121        107    1331825   \n",
              "2         12      15          19       22         10          8    1331825   \n",
              "3          1       3           2        6          4          2    1331825   \n",
              "4        101      77          80       97         75         67    1331825   \n",
              "...      ...     ...         ...      ...        ...        ...        ...   \n",
              "25083      0       0           0        0          0          0    1689080   \n",
              "25084      8      19          27       16         19         17    1689080   \n",
              "25085      6       5          10       10         13          8    1689080   \n",
              "25086     36      34          16       14         21         12    1689080   \n",
              "25087    139     183         158      122        119        122    1689080   \n",
              "\n",
              "       totales        tasa  \n",
              "0          419   31.460590  \n",
              "1         1860  139.657988  \n",
              "2          179   13.440204  \n",
              "3           39    2.928313  \n",
              "4         1087   81.617330  \n",
              "...        ...         ...  \n",
              "25083        3    0.177611  \n",
              "25084      198   11.722358  \n",
              "25085      116    6.867644  \n",
              "25086      306   18.116371  \n",
              "25087     1739  102.955455  \n",
              "\n",
              "[25088 rows x 22 columns]"
            ],
            "text/html": [
              "\n",
              "  <div id=\"df-71fb16be-d680-483c-b8bf-2656dbe132ab\">\n",
              "    <div class=\"colab-df-container\">\n",
              "      <div>\n",
              "<style scoped>\n",
              "    .dataframe tbody tr th:only-of-type {\n",
              "        vertical-align: middle;\n",
              "    }\n",
              "\n",
              "    .dataframe tbody tr th {\n",
              "        vertical-align: top;\n",
              "    }\n",
              "\n",
              "    .dataframe thead th {\n",
              "        text-align: right;\n",
              "    }\n",
              "</style>\n",
              "<table border=\"1\" class=\"dataframe\">\n",
              "  <thead>\n",
              "    <tr style=\"text-align: right;\">\n",
              "      <th></th>\n",
              "      <th>año</th>\n",
              "      <th>clave_entidad</th>\n",
              "      <th>entidad</th>\n",
              "      <th>bien_jurídico_afectado</th>\n",
              "      <th>tipo_de_delito</th>\n",
              "      <th>subtipo_de_delito</th>\n",
              "      <th>modalidad</th>\n",
              "      <th>enero</th>\n",
              "      <th>febrero</th>\n",
              "      <th>marzo</th>\n",
              "      <th>...</th>\n",
              "      <th>junio</th>\n",
              "      <th>julio</th>\n",
              "      <th>agosto</th>\n",
              "      <th>septiembre</th>\n",
              "      <th>octubre</th>\n",
              "      <th>noviembre</th>\n",
              "      <th>diciembre</th>\n",
              "      <th>población</th>\n",
              "      <th>totales</th>\n",
              "      <th>tasa</th>\n",
              "    </tr>\n",
              "  </thead>\n",
              "  <tbody>\n",
              "    <tr>\n",
              "      <th>0</th>\n",
              "      <td>2015</td>\n",
              "      <td>1</td>\n",
              "      <td>Aguascalientes</td>\n",
              "      <td>El patrimonio</td>\n",
              "      <td>Abuso de confianza</td>\n",
              "      <td>Abuso de confianza</td>\n",
              "      <td>Abuso de confianza</td>\n",
              "      <td>41</td>\n",
              "      <td>33</td>\n",
              "      <td>31</td>\n",
              "      <td>...</td>\n",
              "      <td>43</td>\n",
              "      <td>30</td>\n",
              "      <td>40</td>\n",
              "      <td>40</td>\n",
              "      <td>34</td>\n",
              "      <td>43</td>\n",
              "      <td>26</td>\n",
              "      <td>1331825</td>\n",
              "      <td>419</td>\n",
              "      <td>31.460590</td>\n",
              "    </tr>\n",
              "    <tr>\n",
              "      <th>1</th>\n",
              "      <td>2015</td>\n",
              "      <td>1</td>\n",
              "      <td>Aguascalientes</td>\n",
              "      <td>El patrimonio</td>\n",
              "      <td>Daño a la propiedad</td>\n",
              "      <td>Daño a la propiedad</td>\n",
              "      <td>Daño a la propiedad</td>\n",
              "      <td>201</td>\n",
              "      <td>180</td>\n",
              "      <td>182</td>\n",
              "      <td>...</td>\n",
              "      <td>166</td>\n",
              "      <td>160</td>\n",
              "      <td>151</td>\n",
              "      <td>178</td>\n",
              "      <td>133</td>\n",
              "      <td>121</td>\n",
              "      <td>107</td>\n",
              "      <td>1331825</td>\n",
              "      <td>1860</td>\n",
              "      <td>139.657988</td>\n",
              "    </tr>\n",
              "    <tr>\n",
              "      <th>2</th>\n",
              "      <td>2015</td>\n",
              "      <td>1</td>\n",
              "      <td>Aguascalientes</td>\n",
              "      <td>El patrimonio</td>\n",
              "      <td>Despojo</td>\n",
              "      <td>Despojo</td>\n",
              "      <td>Despojo</td>\n",
              "      <td>19</td>\n",
              "      <td>15</td>\n",
              "      <td>13</td>\n",
              "      <td>...</td>\n",
              "      <td>19</td>\n",
              "      <td>12</td>\n",
              "      <td>15</td>\n",
              "      <td>19</td>\n",
              "      <td>22</td>\n",
              "      <td>10</td>\n",
              "      <td>8</td>\n",
              "      <td>1331825</td>\n",
              "      <td>179</td>\n",
              "      <td>13.440204</td>\n",
              "    </tr>\n",
              "    <tr>\n",
              "      <th>3</th>\n",
              "      <td>2015</td>\n",
              "      <td>1</td>\n",
              "      <td>Aguascalientes</td>\n",
              "      <td>El patrimonio</td>\n",
              "      <td>Extorsión</td>\n",
              "      <td>Extorsión</td>\n",
              "      <td>Extorsión</td>\n",
              "      <td>2</td>\n",
              "      <td>4</td>\n",
              "      <td>1</td>\n",
              "      <td>...</td>\n",
              "      <td>2</td>\n",
              "      <td>1</td>\n",
              "      <td>3</td>\n",
              "      <td>2</td>\n",
              "      <td>6</td>\n",
              "      <td>4</td>\n",
              "      <td>2</td>\n",
              "      <td>1331825</td>\n",
              "      <td>39</td>\n",
              "      <td>2.928313</td>\n",
              "    </tr>\n",
              "    <tr>\n",
              "      <th>4</th>\n",
              "      <td>2015</td>\n",
              "      <td>1</td>\n",
              "      <td>Aguascalientes</td>\n",
              "      <td>El patrimonio</td>\n",
              "      <td>Fraude</td>\n",
              "      <td>Fraude</td>\n",
              "      <td>Fraude</td>\n",
              "      <td>119</td>\n",
              "      <td>60</td>\n",
              "      <td>104</td>\n",
              "      <td>...</td>\n",
              "      <td>110</td>\n",
              "      <td>101</td>\n",
              "      <td>77</td>\n",
              "      <td>80</td>\n",
              "      <td>97</td>\n",
              "      <td>75</td>\n",
              "      <td>67</td>\n",
              "      <td>1331825</td>\n",
              "      <td>1087</td>\n",
              "      <td>81.617330</td>\n",
              "    </tr>\n",
              "    <tr>\n",
              "      <th>...</th>\n",
              "      <td>...</td>\n",
              "      <td>...</td>\n",
              "      <td>...</td>\n",
              "      <td>...</td>\n",
              "      <td>...</td>\n",
              "      <td>...</td>\n",
              "      <td>...</td>\n",
              "      <td>...</td>\n",
              "      <td>...</td>\n",
              "      <td>...</td>\n",
              "      <td>...</td>\n",
              "      <td>...</td>\n",
              "      <td>...</td>\n",
              "      <td>...</td>\n",
              "      <td>...</td>\n",
              "      <td>...</td>\n",
              "      <td>...</td>\n",
              "      <td>...</td>\n",
              "      <td>...</td>\n",
              "      <td>...</td>\n",
              "      <td>...</td>\n",
              "    </tr>\n",
              "    <tr>\n",
              "      <th>25083</th>\n",
              "      <td>2022</td>\n",
              "      <td>32</td>\n",
              "      <td>Zacatecas</td>\n",
              "      <td>Otros bienes jurídicos afectados (del fuero co...</td>\n",
              "      <td>Evasión de presos</td>\n",
              "      <td>Evasión de presos</td>\n",
              "      <td>Evasión de presos</td>\n",
              "      <td>2</td>\n",
              "      <td>0</td>\n",
              "      <td>1</td>\n",
              "      <td>...</td>\n",
              "      <td>0</td>\n",
              "      <td>0</td>\n",
              "      <td>0</td>\n",
              "      <td>0</td>\n",
              "      <td>0</td>\n",
              "      <td>0</td>\n",
              "      <td>0</td>\n",
              "      <td>1689080</td>\n",
              "      <td>3</td>\n",
              "      <td>0.177611</td>\n",
              "    </tr>\n",
              "    <tr>\n",
              "      <th>25084</th>\n",
              "      <td>2022</td>\n",
              "      <td>32</td>\n",
              "      <td>Zacatecas</td>\n",
              "      <td>Otros bienes jurídicos afectados (del fuero co...</td>\n",
              "      <td>Falsedad</td>\n",
              "      <td>Falsedad</td>\n",
              "      <td>Falsedad</td>\n",
              "      <td>13</td>\n",
              "      <td>20</td>\n",
              "      <td>16</td>\n",
              "      <td>...</td>\n",
              "      <td>11</td>\n",
              "      <td>8</td>\n",
              "      <td>19</td>\n",
              "      <td>27</td>\n",
              "      <td>16</td>\n",
              "      <td>19</td>\n",
              "      <td>17</td>\n",
              "      <td>1689080</td>\n",
              "      <td>198</td>\n",
              "      <td>11.722358</td>\n",
              "    </tr>\n",
              "    <tr>\n",
              "      <th>25085</th>\n",
              "      <td>2022</td>\n",
              "      <td>32</td>\n",
              "      <td>Zacatecas</td>\n",
              "      <td>Otros bienes jurídicos afectados (del fuero co...</td>\n",
              "      <td>Falsificación</td>\n",
              "      <td>Falsificación</td>\n",
              "      <td>Falsificación</td>\n",
              "      <td>5</td>\n",
              "      <td>14</td>\n",
              "      <td>7</td>\n",
              "      <td>...</td>\n",
              "      <td>19</td>\n",
              "      <td>6</td>\n",
              "      <td>5</td>\n",
              "      <td>10</td>\n",
              "      <td>10</td>\n",
              "      <td>13</td>\n",
              "      <td>8</td>\n",
              "      <td>1689080</td>\n",
              "      <td>116</td>\n",
              "      <td>6.867644</td>\n",
              "    </tr>\n",
              "    <tr>\n",
              "      <th>25086</th>\n",
              "      <td>2022</td>\n",
              "      <td>32</td>\n",
              "      <td>Zacatecas</td>\n",
              "      <td>Otros bienes jurídicos afectados (del fuero co...</td>\n",
              "      <td>Narcomenudeo</td>\n",
              "      <td>Narcomenudeo</td>\n",
              "      <td>Narcomenudeo</td>\n",
              "      <td>28</td>\n",
              "      <td>21</td>\n",
              "      <td>20</td>\n",
              "      <td>...</td>\n",
              "      <td>38</td>\n",
              "      <td>36</td>\n",
              "      <td>34</td>\n",
              "      <td>16</td>\n",
              "      <td>14</td>\n",
              "      <td>21</td>\n",
              "      <td>12</td>\n",
              "      <td>1689080</td>\n",
              "      <td>306</td>\n",
              "      <td>18.116371</td>\n",
              "    </tr>\n",
              "    <tr>\n",
              "      <th>25087</th>\n",
              "      <td>2022</td>\n",
              "      <td>32</td>\n",
              "      <td>Zacatecas</td>\n",
              "      <td>Otros bienes jurídicos afectados (del fuero co...</td>\n",
              "      <td>Otros delitos del Fuero Común</td>\n",
              "      <td>Otros delitos del Fuero Común</td>\n",
              "      <td>Otros delitos del Fuero Común</td>\n",
              "      <td>146</td>\n",
              "      <td>122</td>\n",
              "      <td>174</td>\n",
              "      <td>...</td>\n",
              "      <td>170</td>\n",
              "      <td>139</td>\n",
              "      <td>183</td>\n",
              "      <td>158</td>\n",
              "      <td>122</td>\n",
              "      <td>119</td>\n",
              "      <td>122</td>\n",
              "      <td>1689080</td>\n",
              "      <td>1739</td>\n",
              "      <td>102.955455</td>\n",
              "    </tr>\n",
              "  </tbody>\n",
              "</table>\n",
              "<p>25088 rows × 22 columns</p>\n",
              "</div>\n",
              "      <button class=\"colab-df-convert\" onclick=\"convertToInteractive('df-71fb16be-d680-483c-b8bf-2656dbe132ab')\"\n",
              "              title=\"Convert this dataframe to an interactive table.\"\n",
              "              style=\"display:none;\">\n",
              "        \n",
              "  <svg xmlns=\"http://www.w3.org/2000/svg\" height=\"24px\"viewBox=\"0 0 24 24\"\n",
              "       width=\"24px\">\n",
              "    <path d=\"M0 0h24v24H0V0z\" fill=\"none\"/>\n",
              "    <path d=\"M18.56 5.44l.94 2.06.94-2.06 2.06-.94-2.06-.94-.94-2.06-.94 2.06-2.06.94zm-11 1L8.5 8.5l.94-2.06 2.06-.94-2.06-.94L8.5 2.5l-.94 2.06-2.06.94zm10 10l.94 2.06.94-2.06 2.06-.94-2.06-.94-.94-2.06-.94 2.06-2.06.94z\"/><path d=\"M17.41 7.96l-1.37-1.37c-.4-.4-.92-.59-1.43-.59-.52 0-1.04.2-1.43.59L10.3 9.45l-7.72 7.72c-.78.78-.78 2.05 0 2.83L4 21.41c.39.39.9.59 1.41.59.51 0 1.02-.2 1.41-.59l7.78-7.78 2.81-2.81c.8-.78.8-2.07 0-2.86zM5.41 20L4 18.59l7.72-7.72 1.47 1.35L5.41 20z\"/>\n",
              "  </svg>\n",
              "      </button>\n",
              "      \n",
              "  <style>\n",
              "    .colab-df-container {\n",
              "      display:flex;\n",
              "      flex-wrap:wrap;\n",
              "      gap: 12px;\n",
              "    }\n",
              "\n",
              "    .colab-df-convert {\n",
              "      background-color: #E8F0FE;\n",
              "      border: none;\n",
              "      border-radius: 50%;\n",
              "      cursor: pointer;\n",
              "      display: none;\n",
              "      fill: #1967D2;\n",
              "      height: 32px;\n",
              "      padding: 0 0 0 0;\n",
              "      width: 32px;\n",
              "    }\n",
              "\n",
              "    .colab-df-convert:hover {\n",
              "      background-color: #E2EBFA;\n",
              "      box-shadow: 0px 1px 2px rgba(60, 64, 67, 0.3), 0px 1px 3px 1px rgba(60, 64, 67, 0.15);\n",
              "      fill: #174EA6;\n",
              "    }\n",
              "\n",
              "    [theme=dark] .colab-df-convert {\n",
              "      background-color: #3B4455;\n",
              "      fill: #D2E3FC;\n",
              "    }\n",
              "\n",
              "    [theme=dark] .colab-df-convert:hover {\n",
              "      background-color: #434B5C;\n",
              "      box-shadow: 0px 1px 3px 1px rgba(0, 0, 0, 0.15);\n",
              "      filter: drop-shadow(0px 1px 2px rgba(0, 0, 0, 0.3));\n",
              "      fill: #FFFFFF;\n",
              "    }\n",
              "  </style>\n",
              "\n",
              "      <script>\n",
              "        const buttonEl =\n",
              "          document.querySelector('#df-71fb16be-d680-483c-b8bf-2656dbe132ab button.colab-df-convert');\n",
              "        buttonEl.style.display =\n",
              "          google.colab.kernel.accessAllowed ? 'block' : 'none';\n",
              "\n",
              "        async function convertToInteractive(key) {\n",
              "          const element = document.querySelector('#df-71fb16be-d680-483c-b8bf-2656dbe132ab');\n",
              "          const dataTable =\n",
              "            await google.colab.kernel.invokeFunction('convertToInteractive',\n",
              "                                                     [key], {});\n",
              "          if (!dataTable) return;\n",
              "\n",
              "          const docLinkHtml = 'Like what you see? Visit the ' +\n",
              "            '<a target=\"_blank\" href=https://colab.research.google.com/notebooks/data_table.ipynb>data table notebook</a>'\n",
              "            + ' to learn more about interactive tables.';\n",
              "          element.innerHTML = '';\n",
              "          dataTable['output_type'] = 'display_data';\n",
              "          await google.colab.output.renderOutput(dataTable, element);\n",
              "          const docLink = document.createElement('div');\n",
              "          docLink.innerHTML = docLinkHtml;\n",
              "          element.appendChild(docLink);\n",
              "        }\n",
              "      </script>\n",
              "    </div>\n",
              "  </div>\n",
              "  "
            ]
          },
          "metadata": {},
          "execution_count": 59
        }
      ]
    },
    {
      "cell_type": "code",
      "source": [
        "delitos_poblacion.to_csv('delitos_poblacion.csv')"
      ],
      "metadata": {
        "id": "b1gcGAOee7f-"
      },
      "execution_count": null,
      "outputs": []
    },
    {
      "cell_type": "markdown",
      "source": [
        "###VIII .- APIs (Opcional)\n",
        "\n",
        "*   Se entregó un Notebook extra que contiene el código para correctamente hacer un llamado a una API para su colección en un Data Frame\n",
        "\n",
        "#### API WORLD BANK\n",
        "\\https://www.worldbank.org/en/home"
      ],
      "metadata": {
        "id": "Pohp0cXmxXYM"
      }
    },
    {
      "cell_type": "markdown",
      "source": [
        "#### Importar librerias a utilizar para lectura de API (World Bank) a través de pandas_datareader"
      ],
      "metadata": {
        "id": "ZuKh34VhxlBG"
      }
    },
    {
      "cell_type": "code",
      "source": [
        "import pandas as pd\n",
        "from pandas_datareader import wb\n",
        "#wb (World Bank)\n",
        "from datetime import datetime"
      ],
      "metadata": {
        "id": "_g4v4QJKxi2d"
      },
      "execution_count": null,
      "outputs": []
    },
    {
      "cell_type": "markdown",
      "source": [
        "####Definir variables a utilizar en pandas wb\n",
        "\n",
        "*   start .- fecha inicio\n",
        "*   end .- fecha final\n",
        "*   indicator_id .- idenfificador de indicador de World Bank\n",
        "*   country .- lista de paises a filtrar\n"
      ],
      "metadata": {
        "id": "ncWSqDoaxrsE"
      }
    },
    {
      "cell_type": "code",
      "source": [
        "start = datetime (2015,1,1)\n",
        "end = datetime (2023,1,1)\n",
        "indicator_id = \"NY.GDP.PCAP.KD\""
      ],
      "metadata": {
        "id": "essS3gDgxtws"
      },
      "execution_count": null,
      "outputs": []
    },
    {
      "cell_type": "code",
      "source": [
        "#Información de todos los Data Series del Banco Mundial\n",
        "#wb.get_indicators()"
      ],
      "metadata": {
        "id": "ksbp_akQxvPs"
      },
      "execution_count": null,
      "outputs": []
    },
    {
      "cell_type": "code",
      "source": [
        "wb.search(\"NY.GDP.PCAP.KD\")"
      ],
      "metadata": {
        "colab": {
          "base_uri": "https://localhost:8080/",
          "height": 49
        },
        "id": "qbWciFXjxwU3",
        "outputId": "4c7e489b-696c-456f-a80f-c041326414ba"
      },
      "execution_count": null,
      "outputs": [
        {
          "output_type": "execute_result",
          "data": {
            "text/plain": [
              "Empty DataFrame\n",
              "Columns: [id, name, unit, source, sourceNote, sourceOrganization, topics]\n",
              "Index: []"
            ],
            "text/html": [
              "\n",
              "  <div id=\"df-aa1766ef-6586-4689-8768-88eb26dd54f5\">\n",
              "    <div class=\"colab-df-container\">\n",
              "      <div>\n",
              "<style scoped>\n",
              "    .dataframe tbody tr th:only-of-type {\n",
              "        vertical-align: middle;\n",
              "    }\n",
              "\n",
              "    .dataframe tbody tr th {\n",
              "        vertical-align: top;\n",
              "    }\n",
              "\n",
              "    .dataframe thead th {\n",
              "        text-align: right;\n",
              "    }\n",
              "</style>\n",
              "<table border=\"1\" class=\"dataframe\">\n",
              "  <thead>\n",
              "    <tr style=\"text-align: right;\">\n",
              "      <th></th>\n",
              "      <th>id</th>\n",
              "      <th>name</th>\n",
              "      <th>unit</th>\n",
              "      <th>source</th>\n",
              "      <th>sourceNote</th>\n",
              "      <th>sourceOrganization</th>\n",
              "      <th>topics</th>\n",
              "    </tr>\n",
              "  </thead>\n",
              "  <tbody>\n",
              "  </tbody>\n",
              "</table>\n",
              "</div>\n",
              "      <button class=\"colab-df-convert\" onclick=\"convertToInteractive('df-aa1766ef-6586-4689-8768-88eb26dd54f5')\"\n",
              "              title=\"Convert this dataframe to an interactive table.\"\n",
              "              style=\"display:none;\">\n",
              "        \n",
              "  <svg xmlns=\"http://www.w3.org/2000/svg\" height=\"24px\"viewBox=\"0 0 24 24\"\n",
              "       width=\"24px\">\n",
              "    <path d=\"M0 0h24v24H0V0z\" fill=\"none\"/>\n",
              "    <path d=\"M18.56 5.44l.94 2.06.94-2.06 2.06-.94-2.06-.94-.94-2.06-.94 2.06-2.06.94zm-11 1L8.5 8.5l.94-2.06 2.06-.94-2.06-.94L8.5 2.5l-.94 2.06-2.06.94zm10 10l.94 2.06.94-2.06 2.06-.94-2.06-.94-.94-2.06-.94 2.06-2.06.94z\"/><path d=\"M17.41 7.96l-1.37-1.37c-.4-.4-.92-.59-1.43-.59-.52 0-1.04.2-1.43.59L10.3 9.45l-7.72 7.72c-.78.78-.78 2.05 0 2.83L4 21.41c.39.39.9.59 1.41.59.51 0 1.02-.2 1.41-.59l7.78-7.78 2.81-2.81c.8-.78.8-2.07 0-2.86zM5.41 20L4 18.59l7.72-7.72 1.47 1.35L5.41 20z\"/>\n",
              "  </svg>\n",
              "      </button>\n",
              "      \n",
              "  <style>\n",
              "    .colab-df-container {\n",
              "      display:flex;\n",
              "      flex-wrap:wrap;\n",
              "      gap: 12px;\n",
              "    }\n",
              "\n",
              "    .colab-df-convert {\n",
              "      background-color: #E8F0FE;\n",
              "      border: none;\n",
              "      border-radius: 50%;\n",
              "      cursor: pointer;\n",
              "      display: none;\n",
              "      fill: #1967D2;\n",
              "      height: 32px;\n",
              "      padding: 0 0 0 0;\n",
              "      width: 32px;\n",
              "    }\n",
              "\n",
              "    .colab-df-convert:hover {\n",
              "      background-color: #E2EBFA;\n",
              "      box-shadow: 0px 1px 2px rgba(60, 64, 67, 0.3), 0px 1px 3px 1px rgba(60, 64, 67, 0.15);\n",
              "      fill: #174EA6;\n",
              "    }\n",
              "\n",
              "    [theme=dark] .colab-df-convert {\n",
              "      background-color: #3B4455;\n",
              "      fill: #D2E3FC;\n",
              "    }\n",
              "\n",
              "    [theme=dark] .colab-df-convert:hover {\n",
              "      background-color: #434B5C;\n",
              "      box-shadow: 0px 1px 3px 1px rgba(0, 0, 0, 0.15);\n",
              "      filter: drop-shadow(0px 1px 2px rgba(0, 0, 0, 0.3));\n",
              "      fill: #FFFFFF;\n",
              "    }\n",
              "  </style>\n",
              "\n",
              "      <script>\n",
              "        const buttonEl =\n",
              "          document.querySelector('#df-aa1766ef-6586-4689-8768-88eb26dd54f5 button.colab-df-convert');\n",
              "        buttonEl.style.display =\n",
              "          google.colab.kernel.accessAllowed ? 'block' : 'none';\n",
              "\n",
              "        async function convertToInteractive(key) {\n",
              "          const element = document.querySelector('#df-aa1766ef-6586-4689-8768-88eb26dd54f5');\n",
              "          const dataTable =\n",
              "            await google.colab.kernel.invokeFunction('convertToInteractive',\n",
              "                                                     [key], {});\n",
              "          if (!dataTable) return;\n",
              "\n",
              "          const docLinkHtml = 'Like what you see? Visit the ' +\n",
              "            '<a target=\"_blank\" href=https://colab.research.google.com/notebooks/data_table.ipynb>data table notebook</a>'\n",
              "            + ' to learn more about interactive tables.';\n",
              "          element.innerHTML = '';\n",
              "          dataTable['output_type'] = 'display_data';\n",
              "          await google.colab.output.renderOutput(dataTable, element);\n",
              "          const docLink = document.createElement('div');\n",
              "          docLink.innerHTML = docLinkHtml;\n",
              "          element.appendChild(docLink);\n",
              "        }\n",
              "      </script>\n",
              "    </div>\n",
              "  </div>\n",
              "  "
            ]
          },
          "metadata": {},
          "execution_count": 4
        }
      ]
    },
    {
      "cell_type": "code",
      "source": [
        "#Información por País\n",
        "#country code, region, income level, capital city, latitude, and longitude\n",
        "#wb.get_countries()"
      ],
      "metadata": {
        "id": "d32DQCw1xy4M"
      },
      "execution_count": null,
      "outputs": []
    },
    {
      "cell_type": "code",
      "source": [
        "pib_per_capita_usd= wb.download(indicator = indicator_id, start = start, end = end, country=[\"MX\"])\n",
        "#NOTA : La variable del pais (country) se define directo en el llamado wb.download, (una lista)\n",
        "print (pib_per_capita_usd)"
      ],
      "metadata": {
        "colab": {
          "base_uri": "https://localhost:8080/"
        },
        "id": "DNHJ8zVWx13l",
        "outputId": "0d9c614d-4184-4373-c0e8-efdd9208a930"
      },
      "execution_count": null,
      "outputs": [
        {
          "output_type": "stream",
          "name": "stdout",
          "text": [
            "              NY.GDP.PCAP.KD\n",
            "country year                \n",
            "Mexico  2021     9525.409684\n",
            "        2020     9147.053505\n",
            "        2019    10013.703192\n",
            "        2018    10120.363543\n",
            "        2017     9997.686914\n",
            "        2016     9897.150062\n",
            "        2015     9753.380048\n"
          ]
        }
      ]
    },
    {
      "cell_type": "code",
      "source": [
        "type(pib_per_capita_usd)"
      ],
      "metadata": {
        "colab": {
          "base_uri": "https://localhost:8080/"
        },
        "id": "51nunyBux8N0",
        "outputId": "2c7e9acd-a801-4b52-9c05-ba5aabfac1d6"
      },
      "execution_count": null,
      "outputs": [
        {
          "output_type": "execute_result",
          "data": {
            "text/plain": [
              "pandas.core.frame.DataFrame"
            ]
          },
          "metadata": {},
          "execution_count": 8
        }
      ]
    },
    {
      "cell_type": "code",
      "source": [
        "pib_per_capita_usd.shape"
      ],
      "metadata": {
        "colab": {
          "base_uri": "https://localhost:8080/"
        },
        "id": "tU298k0OyOS4",
        "outputId": "fccac185-4049-4392-acdb-814534caa11f"
      },
      "execution_count": null,
      "outputs": [
        {
          "output_type": "execute_result",
          "data": {
            "text/plain": [
              "(7, 1)"
            ]
          },
          "metadata": {},
          "execution_count": 9
        }
      ]
    },
    {
      "cell_type": "code",
      "source": [
        "pib_per_capita_usd.info()"
      ],
      "metadata": {
        "colab": {
          "base_uri": "https://localhost:8080/"
        },
        "id": "kQ9FUo5YyPXs",
        "outputId": "53a74541-d4d5-4814-dadc-f11ecd633ccc"
      },
      "execution_count": null,
      "outputs": [
        {
          "output_type": "stream",
          "name": "stdout",
          "text": [
            "<class 'pandas.core.frame.DataFrame'>\n",
            "MultiIndex: 7 entries, ('Mexico', '2021') to ('Mexico', '2015')\n",
            "Data columns (total 1 columns):\n",
            " #   Column          Non-Null Count  Dtype  \n",
            "---  ------          --------------  -----  \n",
            " 0   NY.GDP.PCAP.KD  7 non-null      float64\n",
            "dtypes: float64(1)\n",
            "memory usage: 651.0+ bytes\n"
          ]
        }
      ]
    },
    {
      "cell_type": "code",
      "source": [
        "pib_per_capita_usd.columns"
      ],
      "metadata": {
        "colab": {
          "base_uri": "https://localhost:8080/"
        },
        "id": "0_lkpQrPyQZc",
        "outputId": "b2de3bef-ed21-43a6-92d9-21cbf35d1798"
      },
      "execution_count": null,
      "outputs": [
        {
          "output_type": "execute_result",
          "data": {
            "text/plain": [
              "Index(['NY.GDP.PCAP.KD'], dtype='object')"
            ]
          },
          "metadata": {},
          "execution_count": 11
        }
      ]
    },
    {
      "cell_type": "code",
      "source": [
        "pib_per_capita_usd.dtypes"
      ],
      "metadata": {
        "colab": {
          "base_uri": "https://localhost:8080/"
        },
        "id": "j2mmlIY6yRu8",
        "outputId": "610d1169-18f9-419c-c84e-72b7b2ed12a6"
      },
      "execution_count": null,
      "outputs": [
        {
          "output_type": "execute_result",
          "data": {
            "text/plain": [
              "NY.GDP.PCAP.KD    float64\n",
              "dtype: object"
            ]
          },
          "metadata": {},
          "execution_count": 12
        }
      ]
    },
    {
      "cell_type": "code",
      "source": [
        "pib_per_capita_usd = pib_per_capita_usd.rename (columns = {\"NY.GDP.PCAP.KD\": \"pib_pc_usd\"})\n",
        "print(pib_per_capita_usd)"
      ],
      "metadata": {
        "colab": {
          "base_uri": "https://localhost:8080/"
        },
        "id": "V8zX_nf_yTQ2",
        "outputId": "488a1a1b-4371-4adc-bbaa-4e7559ec9c52"
      },
      "execution_count": null,
      "outputs": [
        {
          "output_type": "stream",
          "name": "stdout",
          "text": [
            "                pib_pc_usd\n",
            "country year              \n",
            "Mexico  2021   9525.409684\n",
            "        2020   9147.053505\n",
            "        2019  10013.703192\n",
            "        2018  10120.363543\n",
            "        2017   9997.686914\n",
            "        2016   9897.150062\n",
            "        2015   9753.380048\n"
          ]
        }
      ]
    },
    {
      "cell_type": "code",
      "source": [
        "pib_per_capita_usd.index = [2021, 2020, 2019, 2018, 2017, 2016, 2015]\n",
        "print (pib_per_capita_usd)"
      ],
      "metadata": {
        "colab": {
          "base_uri": "https://localhost:8080/"
        },
        "id": "oSgX0bKAyUyM",
        "outputId": "96d0fd54-1e21-42c8-8a53-7497c3796123"
      },
      "execution_count": null,
      "outputs": [
        {
          "output_type": "stream",
          "name": "stdout",
          "text": [
            "        pib_pc_usd\n",
            "2021   9525.409684\n",
            "2020   9147.053505\n",
            "2019  10013.703192\n",
            "2018  10120.363543\n",
            "2017   9997.686914\n",
            "2016   9897.150062\n",
            "2015   9753.380048\n"
          ]
        }
      ]
    },
    {
      "cell_type": "code",
      "source": [
        "pib_per_capita_usd.info()"
      ],
      "metadata": {
        "colab": {
          "base_uri": "https://localhost:8080/"
        },
        "id": "fgW_AGmnyV4E",
        "outputId": "4623d812-6ff2-4522-866f-d0118e80fbb9"
      },
      "execution_count": null,
      "outputs": [
        {
          "output_type": "stream",
          "name": "stdout",
          "text": [
            "<class 'pandas.core.frame.DataFrame'>\n",
            "Int64Index: 7 entries, 2021 to 2015\n",
            "Data columns (total 1 columns):\n",
            " #   Column      Non-Null Count  Dtype  \n",
            "---  ------      --------------  -----  \n",
            " 0   pib_pc_usd  7 non-null      float64\n",
            "dtypes: float64(1)\n",
            "memory usage: 112.0 bytes\n"
          ]
        }
      ]
    },
    {
      "cell_type": "code",
      "source": [
        "pib_per_capita_usd.info()"
      ],
      "metadata": {
        "colab": {
          "base_uri": "https://localhost:8080/"
        },
        "id": "JZsHbDaqyW9F",
        "outputId": "71fc4a30-687b-4497-9a65-0a8c70f72dc2"
      },
      "execution_count": null,
      "outputs": [
        {
          "output_type": "stream",
          "name": "stdout",
          "text": [
            "<class 'pandas.core.frame.DataFrame'>\n",
            "Int64Index: 7 entries, 2021 to 2015\n",
            "Data columns (total 1 columns):\n",
            " #   Column      Non-Null Count  Dtype  \n",
            "---  ------      --------------  -----  \n",
            " 0   pib_pc_usd  7 non-null      float64\n",
            "dtypes: float64(1)\n",
            "memory usage: 112.0 bytes\n"
          ]
        }
      ]
    },
    {
      "cell_type": "code",
      "source": [
        "pib_per_capita_usd.to_csv(\"pib_per_capita_usd.csv\")"
      ],
      "metadata": {
        "id": "TuqJ0KE6yY2u"
      },
      "execution_count": null,
      "outputs": []
    },
    {
      "cell_type": "markdown",
      "source": [
        "#### Merge de los datos de la API con los datos del dataframe"
      ],
      "metadata": {
        "id": "kJlIyMv_2Jod"
      }
    },
    {
      "cell_type": "code",
      "source": [
        "#Agrupación por año\n",
        "df_agrupado=pd.DataFrame(delitos_poblacion.groupby([ 'año'], as_index=False)['tasa'].max())\n",
        "print(df_agrupado)"
      ],
      "metadata": {
        "colab": {
          "base_uri": "https://localhost:8080/"
        },
        "id": "JwmUuDAj2ixO",
        "outputId": "3ed12cd5-d1e2-4a4c-ec8d-9250d3cd5657"
      },
      "execution_count": null,
      "outputs": [
        {
          "output_type": "stream",
          "name": "stdout",
          "text": [
            "    año        tasa\n",
            "0  2015  686.857063\n",
            "1  2016  778.567019\n",
            "2  2017  666.737375\n",
            "3  2018  716.069359\n",
            "4  2019  558.164440\n",
            "5  2020  552.503780\n",
            "6  2021  534.089270\n",
            "7  2022  544.421992\n"
          ]
        }
      ]
    },
    {
      "cell_type": "code",
      "source": [
        "print(pib_per_capita_usd)"
      ],
      "metadata": {
        "colab": {
          "base_uri": "https://localhost:8080/"
        },
        "id": "rmH7_0EN2lSF",
        "outputId": "c781b1fb-8750-4c28-e02a-82e57abb305c"
      },
      "execution_count": null,
      "outputs": [
        {
          "output_type": "stream",
          "name": "stdout",
          "text": [
            "   index    pib_pc_usd\n",
            "0   2021   9525.409684\n",
            "1   2020   9147.053505\n",
            "2   2019  10013.703192\n",
            "3   2018  10120.363543\n",
            "4   2017   9997.686914\n",
            "5   2016   9897.150062\n",
            "6   2015   9753.380048\n"
          ]
        }
      ]
    },
    {
      "cell_type": "code",
      "source": [
        "pib_per_capita_usd.reset_index(inplace=True)"
      ],
      "metadata": {
        "id": "o2auW3S94M2n"
      },
      "execution_count": null,
      "outputs": []
    },
    {
      "cell_type": "code",
      "source": [
        "# renombrado de columnas\n",
        "df_per_capita2=pib_per_capita_usd.columns=['año','pib']\n",
        "print(df_per_capita2)"
      ],
      "metadata": {
        "colab": {
          "base_uri": "https://localhost:8080/"
        },
        "id": "50vML4zDBcfV",
        "outputId": "cc47c602-ea42-4523-a69f-5a09eb8d54c0"
      },
      "execution_count": null,
      "outputs": [
        {
          "output_type": "stream",
          "name": "stdout",
          "text": [
            "['año', 'pib']\n"
          ]
        }
      ]
    },
    {
      "cell_type": "code",
      "source": [
        "# Aplicación del merge para comparar los dos dataframes \n",
        "delitos_poblacion=pd.merge(df_agrupado,pib_per_capita_usd, how='outer',on=['año'])\n",
        "print(delitos_poblacion)"
      ],
      "metadata": {
        "colab": {
          "base_uri": "https://localhost:8080/"
        },
        "id": "suZhXXxO2ndP",
        "outputId": "c016a7b1-766e-46f9-9f8d-47250897eb83"
      },
      "execution_count": null,
      "outputs": [
        {
          "output_type": "stream",
          "name": "stdout",
          "text": [
            "    año        tasa           pib\n",
            "0  2015  686.857063   9753.380048\n",
            "1  2016  778.567019   9897.150062\n",
            "2  2017  666.737375   9997.686914\n",
            "3  2018  716.069359  10120.363543\n",
            "4  2019  558.164440  10013.703192\n",
            "5  2020  552.503780   9147.053505\n",
            "6  2021  534.089270   9525.409684\n",
            "7  2022  544.421992           NaN\n"
          ]
        }
      ]
    },
    {
      "cell_type": "code",
      "source": [
        "#Conclusiónes\n",
        "# En la última tabla se aprecia las tasas o índices delictivos por años comparados por el producto interno bruto del país desde el 2015\n",
        "# Se observa que la más alta tasa se tiene en el 2016 con un 778.56 y no representa un pib alto, continuando con el análisis se puede apreciar\n",
        "# que No existe una correlación efectiva entre la disminución de la tasa delictiva con el aumento del PIB, ya que el dato del 2021 es el \n",
        "# menor tasa delictiva pero No corresponde a un PIB alto"
      ],
      "metadata": {
        "id": "URtPmcWt2opd"
      },
      "execution_count": null,
      "outputs": []
    }
  ]
}